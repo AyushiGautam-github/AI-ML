{
  "nbformat": 4,
  "nbformat_minor": 0,
  "metadata": {
    "colab": {
      "provenance": []
    },
    "kernelspec": {
      "name": "python3",
      "display_name": "Python 3"
    },
    "language_info": {
      "name": "python"
    }
  },
  "cells": [
    {
      "cell_type": "markdown",
      "source": [],
      "metadata": {
        "id": "4IEpLhe2VEIw"
      }
    },
    {
      "cell_type": "code",
      "execution_count": null,
      "metadata": {
        "id": "GcZWqGD1B9wx"
      },
      "outputs": [],
      "source": [
        "import pandas as pd\n",
        "import numpy as np"
      ]
    },
    {
      "cell_type": "code",
      "source": [
        "df=pd.read_csv('/content/AI project dataset (1).csv')\n",
        "\n",
        "df.drop(df.index[1000:1002], inplace=True)\n",
        "df"
      ],
      "metadata": {
        "colab": {
          "base_uri": "https://localhost:8080/",
          "height": 424
        },
        "id": "hnCFUmDUCLRU",
        "outputId": "c98e9b43-b1d2-4068-c831-64821a60309e"
      },
      "execution_count": null,
      "outputs": [
        {
          "output_type": "execute_result",
          "data": {
            "text/plain": [
              "     Age     Sex Housing Saving accounts  Duration           Job  \\\n",
              "0     67    male     own             NaN         6    management   \n",
              "1     22  female     own          little        48    technician   \n",
              "2     49    male     own          little        12  entrepreneur   \n",
              "3     45    male    free          little        42   blue-collar   \n",
              "4     53    male    free          little        24  White-Collar   \n",
              "..   ...     ...     ...             ...       ...           ...   \n",
              "995   31  female     own          little        12   blue-collar   \n",
              "996   40    male     own          little        30        admin.   \n",
              "997   38    male     own          little        12   blue-collar   \n",
              "998   23    male    free          little        45      services   \n",
              "999   27    male     own        moderate        45    technician   \n",
              "\n",
              "    Marital status  Spouse - Salary  House Loan  Rent  amount     Salary  \\\n",
              "0          married         156646.4    406597.5           0.0  101348.88   \n",
              "1           single              0.0   1293502.5           0.0  112542.58   \n",
              "2          married         127397.4    135000.0           0.0  113931.57   \n",
              "3          married         145672.3    312682.5           0.0   93826.63   \n",
              "4           single              0.0    513000.0           0.0   79084.10   \n",
              "..             ...              ...         ...           ...        ...   \n",
              "995        married         118971.6    495985.5           0.0   83912.24   \n",
              "996        married         128841.6   1113840.0           0.0   78439.73   \n",
              "997        married         127219.7    517536.0           0.0    6776.92   \n",
              "998        married         141342.4   1288350.0           0.0    9903.42   \n",
              "999         single              0.0    679500.0           0.0   91561.91   \n",
              "\n",
              "     Credit amount      Sector  Target  \n",
              "0          1196000  Government       0  \n",
              "1          5951000  Government       0  \n",
              "2          2029000     Private       1  \n",
              "3          7882000  Government       1  \n",
              "4          4870000     Private       1  \n",
              "..             ...         ...     ...  \n",
              "995        1736000     Private       1  \n",
              "996        3857000  Government       0  \n",
              "997         804000     Private       0  \n",
              "998        1845000  Government       0  \n",
              "999        4576000     Private       1  \n",
              "\n",
              "[1000 rows x 14 columns]"
            ],
            "text/html": [
              "\n",
              "  <div id=\"df-818d85e2-49c7-4c51-9f5b-a254bbf0f91e\">\n",
              "    <div class=\"colab-df-container\">\n",
              "      <div>\n",
              "<style scoped>\n",
              "    .dataframe tbody tr th:only-of-type {\n",
              "        vertical-align: middle;\n",
              "    }\n",
              "\n",
              "    .dataframe tbody tr th {\n",
              "        vertical-align: top;\n",
              "    }\n",
              "\n",
              "    .dataframe thead th {\n",
              "        text-align: right;\n",
              "    }\n",
              "</style>\n",
              "<table border=\"1\" class=\"dataframe\">\n",
              "  <thead>\n",
              "    <tr style=\"text-align: right;\">\n",
              "      <th></th>\n",
              "      <th>Age</th>\n",
              "      <th>Sex</th>\n",
              "      <th>Housing</th>\n",
              "      <th>Saving accounts</th>\n",
              "      <th>Duration</th>\n",
              "      <th>Job</th>\n",
              "      <th>Marital status</th>\n",
              "      <th>Spouse - Salary</th>\n",
              "      <th>House Loan</th>\n",
              "      <th>Rent  amount</th>\n",
              "      <th>Salary</th>\n",
              "      <th>Credit amount</th>\n",
              "      <th>Sector</th>\n",
              "      <th>Target</th>\n",
              "    </tr>\n",
              "  </thead>\n",
              "  <tbody>\n",
              "    <tr>\n",
              "      <th>0</th>\n",
              "      <td>67</td>\n",
              "      <td>male</td>\n",
              "      <td>own</td>\n",
              "      <td>NaN</td>\n",
              "      <td>6</td>\n",
              "      <td>management</td>\n",
              "      <td>married</td>\n",
              "      <td>156646.4</td>\n",
              "      <td>406597.5</td>\n",
              "      <td>0.0</td>\n",
              "      <td>101348.88</td>\n",
              "      <td>1196000</td>\n",
              "      <td>Government</td>\n",
              "      <td>0</td>\n",
              "    </tr>\n",
              "    <tr>\n",
              "      <th>1</th>\n",
              "      <td>22</td>\n",
              "      <td>female</td>\n",
              "      <td>own</td>\n",
              "      <td>little</td>\n",
              "      <td>48</td>\n",
              "      <td>technician</td>\n",
              "      <td>single</td>\n",
              "      <td>0.0</td>\n",
              "      <td>1293502.5</td>\n",
              "      <td>0.0</td>\n",
              "      <td>112542.58</td>\n",
              "      <td>5951000</td>\n",
              "      <td>Government</td>\n",
              "      <td>0</td>\n",
              "    </tr>\n",
              "    <tr>\n",
              "      <th>2</th>\n",
              "      <td>49</td>\n",
              "      <td>male</td>\n",
              "      <td>own</td>\n",
              "      <td>little</td>\n",
              "      <td>12</td>\n",
              "      <td>entrepreneur</td>\n",
              "      <td>married</td>\n",
              "      <td>127397.4</td>\n",
              "      <td>135000.0</td>\n",
              "      <td>0.0</td>\n",
              "      <td>113931.57</td>\n",
              "      <td>2029000</td>\n",
              "      <td>Private</td>\n",
              "      <td>1</td>\n",
              "    </tr>\n",
              "    <tr>\n",
              "      <th>3</th>\n",
              "      <td>45</td>\n",
              "      <td>male</td>\n",
              "      <td>free</td>\n",
              "      <td>little</td>\n",
              "      <td>42</td>\n",
              "      <td>blue-collar</td>\n",
              "      <td>married</td>\n",
              "      <td>145672.3</td>\n",
              "      <td>312682.5</td>\n",
              "      <td>0.0</td>\n",
              "      <td>93826.63</td>\n",
              "      <td>7882000</td>\n",
              "      <td>Government</td>\n",
              "      <td>1</td>\n",
              "    </tr>\n",
              "    <tr>\n",
              "      <th>4</th>\n",
              "      <td>53</td>\n",
              "      <td>male</td>\n",
              "      <td>free</td>\n",
              "      <td>little</td>\n",
              "      <td>24</td>\n",
              "      <td>White-Collar</td>\n",
              "      <td>single</td>\n",
              "      <td>0.0</td>\n",
              "      <td>513000.0</td>\n",
              "      <td>0.0</td>\n",
              "      <td>79084.10</td>\n",
              "      <td>4870000</td>\n",
              "      <td>Private</td>\n",
              "      <td>1</td>\n",
              "    </tr>\n",
              "    <tr>\n",
              "      <th>...</th>\n",
              "      <td>...</td>\n",
              "      <td>...</td>\n",
              "      <td>...</td>\n",
              "      <td>...</td>\n",
              "      <td>...</td>\n",
              "      <td>...</td>\n",
              "      <td>...</td>\n",
              "      <td>...</td>\n",
              "      <td>...</td>\n",
              "      <td>...</td>\n",
              "      <td>...</td>\n",
              "      <td>...</td>\n",
              "      <td>...</td>\n",
              "      <td>...</td>\n",
              "    </tr>\n",
              "    <tr>\n",
              "      <th>995</th>\n",
              "      <td>31</td>\n",
              "      <td>female</td>\n",
              "      <td>own</td>\n",
              "      <td>little</td>\n",
              "      <td>12</td>\n",
              "      <td>blue-collar</td>\n",
              "      <td>married</td>\n",
              "      <td>118971.6</td>\n",
              "      <td>495985.5</td>\n",
              "      <td>0.0</td>\n",
              "      <td>83912.24</td>\n",
              "      <td>1736000</td>\n",
              "      <td>Private</td>\n",
              "      <td>1</td>\n",
              "    </tr>\n",
              "    <tr>\n",
              "      <th>996</th>\n",
              "      <td>40</td>\n",
              "      <td>male</td>\n",
              "      <td>own</td>\n",
              "      <td>little</td>\n",
              "      <td>30</td>\n",
              "      <td>admin.</td>\n",
              "      <td>married</td>\n",
              "      <td>128841.6</td>\n",
              "      <td>1113840.0</td>\n",
              "      <td>0.0</td>\n",
              "      <td>78439.73</td>\n",
              "      <td>3857000</td>\n",
              "      <td>Government</td>\n",
              "      <td>0</td>\n",
              "    </tr>\n",
              "    <tr>\n",
              "      <th>997</th>\n",
              "      <td>38</td>\n",
              "      <td>male</td>\n",
              "      <td>own</td>\n",
              "      <td>little</td>\n",
              "      <td>12</td>\n",
              "      <td>blue-collar</td>\n",
              "      <td>married</td>\n",
              "      <td>127219.7</td>\n",
              "      <td>517536.0</td>\n",
              "      <td>0.0</td>\n",
              "      <td>6776.92</td>\n",
              "      <td>804000</td>\n",
              "      <td>Private</td>\n",
              "      <td>0</td>\n",
              "    </tr>\n",
              "    <tr>\n",
              "      <th>998</th>\n",
              "      <td>23</td>\n",
              "      <td>male</td>\n",
              "      <td>free</td>\n",
              "      <td>little</td>\n",
              "      <td>45</td>\n",
              "      <td>services</td>\n",
              "      <td>married</td>\n",
              "      <td>141342.4</td>\n",
              "      <td>1288350.0</td>\n",
              "      <td>0.0</td>\n",
              "      <td>9903.42</td>\n",
              "      <td>1845000</td>\n",
              "      <td>Government</td>\n",
              "      <td>0</td>\n",
              "    </tr>\n",
              "    <tr>\n",
              "      <th>999</th>\n",
              "      <td>27</td>\n",
              "      <td>male</td>\n",
              "      <td>own</td>\n",
              "      <td>moderate</td>\n",
              "      <td>45</td>\n",
              "      <td>technician</td>\n",
              "      <td>single</td>\n",
              "      <td>0.0</td>\n",
              "      <td>679500.0</td>\n",
              "      <td>0.0</td>\n",
              "      <td>91561.91</td>\n",
              "      <td>4576000</td>\n",
              "      <td>Private</td>\n",
              "      <td>1</td>\n",
              "    </tr>\n",
              "  </tbody>\n",
              "</table>\n",
              "<p>1000 rows × 14 columns</p>\n",
              "</div>\n",
              "      <button class=\"colab-df-convert\" onclick=\"convertToInteractive('df-818d85e2-49c7-4c51-9f5b-a254bbf0f91e')\"\n",
              "              title=\"Convert this dataframe to an interactive table.\"\n",
              "              style=\"display:none;\">\n",
              "        \n",
              "  <svg xmlns=\"http://www.w3.org/2000/svg\" height=\"24px\"viewBox=\"0 0 24 24\"\n",
              "       width=\"24px\">\n",
              "    <path d=\"M0 0h24v24H0V0z\" fill=\"none\"/>\n",
              "    <path d=\"M18.56 5.44l.94 2.06.94-2.06 2.06-.94-2.06-.94-.94-2.06-.94 2.06-2.06.94zm-11 1L8.5 8.5l.94-2.06 2.06-.94-2.06-.94L8.5 2.5l-.94 2.06-2.06.94zm10 10l.94 2.06.94-2.06 2.06-.94-2.06-.94-.94-2.06-.94 2.06-2.06.94z\"/><path d=\"M17.41 7.96l-1.37-1.37c-.4-.4-.92-.59-1.43-.59-.52 0-1.04.2-1.43.59L10.3 9.45l-7.72 7.72c-.78.78-.78 2.05 0 2.83L4 21.41c.39.39.9.59 1.41.59.51 0 1.02-.2 1.41-.59l7.78-7.78 2.81-2.81c.8-.78.8-2.07 0-2.86zM5.41 20L4 18.59l7.72-7.72 1.47 1.35L5.41 20z\"/>\n",
              "  </svg>\n",
              "      </button>\n",
              "      \n",
              "  <style>\n",
              "    .colab-df-container {\n",
              "      display:flex;\n",
              "      flex-wrap:wrap;\n",
              "      gap: 12px;\n",
              "    }\n",
              "\n",
              "    .colab-df-convert {\n",
              "      background-color: #E8F0FE;\n",
              "      border: none;\n",
              "      border-radius: 50%;\n",
              "      cursor: pointer;\n",
              "      display: none;\n",
              "      fill: #1967D2;\n",
              "      height: 32px;\n",
              "      padding: 0 0 0 0;\n",
              "      width: 32px;\n",
              "    }\n",
              "\n",
              "    .colab-df-convert:hover {\n",
              "      background-color: #E2EBFA;\n",
              "      box-shadow: 0px 1px 2px rgba(60, 64, 67, 0.3), 0px 1px 3px 1px rgba(60, 64, 67, 0.15);\n",
              "      fill: #174EA6;\n",
              "    }\n",
              "\n",
              "    [theme=dark] .colab-df-convert {\n",
              "      background-color: #3B4455;\n",
              "      fill: #D2E3FC;\n",
              "    }\n",
              "\n",
              "    [theme=dark] .colab-df-convert:hover {\n",
              "      background-color: #434B5C;\n",
              "      box-shadow: 0px 1px 3px 1px rgba(0, 0, 0, 0.15);\n",
              "      filter: drop-shadow(0px 1px 2px rgba(0, 0, 0, 0.3));\n",
              "      fill: #FFFFFF;\n",
              "    }\n",
              "  </style>\n",
              "\n",
              "      <script>\n",
              "        const buttonEl =\n",
              "          document.querySelector('#df-818d85e2-49c7-4c51-9f5b-a254bbf0f91e button.colab-df-convert');\n",
              "        buttonEl.style.display =\n",
              "          google.colab.kernel.accessAllowed ? 'block' : 'none';\n",
              "\n",
              "        async function convertToInteractive(key) {\n",
              "          const element = document.querySelector('#df-818d85e2-49c7-4c51-9f5b-a254bbf0f91e');\n",
              "          const dataTable =\n",
              "            await google.colab.kernel.invokeFunction('convertToInteractive',\n",
              "                                                     [key], {});\n",
              "          if (!dataTable) return;\n",
              "\n",
              "          const docLinkHtml = 'Like what you see? Visit the ' +\n",
              "            '<a target=\"_blank\" href=https://colab.research.google.com/notebooks/data_table.ipynb>data table notebook</a>'\n",
              "            + ' to learn more about interactive tables.';\n",
              "          element.innerHTML = '';\n",
              "          dataTable['output_type'] = 'display_data';\n",
              "          await google.colab.output.renderOutput(dataTable, element);\n",
              "          const docLink = document.createElement('div');\n",
              "          docLink.innerHTML = docLinkHtml;\n",
              "          element.appendChild(docLink);\n",
              "        }\n",
              "      </script>\n",
              "    </div>\n",
              "  </div>\n",
              "  "
            ]
          },
          "metadata": {},
          "execution_count": 2
        }
      ]
    },
    {
      "cell_type": "code",
      "source": [
        "#df.drop(['Unnamed: 14','Unnamed: 13'],axis='columns' ,inplace=True)\n"
      ],
      "metadata": {
        "id": "7UQ3UKTNEWyo"
      },
      "execution_count": null,
      "outputs": []
    },
    {
      "cell_type": "code",
      "source": [
        "print(df.isnull().sum())"
      ],
      "metadata": {
        "colab": {
          "base_uri": "https://localhost:8080/"
        },
        "id": "ljO_CyuqAB0H",
        "outputId": "0f1485e7-38fa-4e98-9a7c-d87f45c35c22"
      },
      "execution_count": null,
      "outputs": [
        {
          "output_type": "stream",
          "name": "stdout",
          "text": [
            "Age                  0\n",
            "Sex                  0\n",
            "Housing              0\n",
            "Saving accounts    183\n",
            "Duration             0\n",
            "Job                  0\n",
            "Marital status       0\n",
            "Spouse - Salary      0\n",
            "House Loan           0\n",
            "Rent  amount         0\n",
            "Salary               0\n",
            "Credit amount        0\n",
            "Sector              23\n",
            "Target               0\n",
            "dtype: int64\n"
          ]
        }
      ]
    },
    {
      "cell_type": "code",
      "source": [
        "num= df.select_dtypes(include='number')\n",
        "num"
      ],
      "metadata": {
        "colab": {
          "base_uri": "https://localhost:8080/",
          "height": 424
        },
        "id": "hKry9k2kBXRI",
        "outputId": "d010f3d5-388a-494c-ce49-bebe20f95cc6"
      },
      "execution_count": null,
      "outputs": [
        {
          "output_type": "execute_result",
          "data": {
            "text/plain": [
              "     Age  Duration  Spouse - Salary  House Loan  Rent  amount     Salary  \\\n",
              "0     67         6         156646.4    406597.5           0.0  101348.88   \n",
              "1     22        48              0.0   1293502.5           0.0  112542.58   \n",
              "2     49        12         127397.4    135000.0           0.0  113931.57   \n",
              "3     45        42         145672.3    312682.5           0.0   93826.63   \n",
              "4     53        24              0.0    513000.0           0.0   79084.10   \n",
              "..   ...       ...              ...         ...           ...        ...   \n",
              "995   31        12         118971.6    495985.5           0.0   83912.24   \n",
              "996   40        30         128841.6   1113840.0           0.0   78439.73   \n",
              "997   38        12         127219.7    517536.0           0.0    6776.92   \n",
              "998   23        45         141342.4   1288350.0           0.0    9903.42   \n",
              "999   27        45              0.0    679500.0           0.0   91561.91   \n",
              "\n",
              "     Credit amount  Target  \n",
              "0          1196000       0  \n",
              "1          5951000       0  \n",
              "2          2029000       1  \n",
              "3          7882000       1  \n",
              "4          4870000       1  \n",
              "..             ...     ...  \n",
              "995        1736000       1  \n",
              "996        3857000       0  \n",
              "997         804000       0  \n",
              "998        1845000       0  \n",
              "999        4576000       1  \n",
              "\n",
              "[1000 rows x 8 columns]"
            ],
            "text/html": [
              "\n",
              "  <div id=\"df-01573606-0678-41dc-959e-0d85f5efd1ce\">\n",
              "    <div class=\"colab-df-container\">\n",
              "      <div>\n",
              "<style scoped>\n",
              "    .dataframe tbody tr th:only-of-type {\n",
              "        vertical-align: middle;\n",
              "    }\n",
              "\n",
              "    .dataframe tbody tr th {\n",
              "        vertical-align: top;\n",
              "    }\n",
              "\n",
              "    .dataframe thead th {\n",
              "        text-align: right;\n",
              "    }\n",
              "</style>\n",
              "<table border=\"1\" class=\"dataframe\">\n",
              "  <thead>\n",
              "    <tr style=\"text-align: right;\">\n",
              "      <th></th>\n",
              "      <th>Age</th>\n",
              "      <th>Duration</th>\n",
              "      <th>Spouse - Salary</th>\n",
              "      <th>House Loan</th>\n",
              "      <th>Rent  amount</th>\n",
              "      <th>Salary</th>\n",
              "      <th>Credit amount</th>\n",
              "      <th>Target</th>\n",
              "    </tr>\n",
              "  </thead>\n",
              "  <tbody>\n",
              "    <tr>\n",
              "      <th>0</th>\n",
              "      <td>67</td>\n",
              "      <td>6</td>\n",
              "      <td>156646.4</td>\n",
              "      <td>406597.5</td>\n",
              "      <td>0.0</td>\n",
              "      <td>101348.88</td>\n",
              "      <td>1196000</td>\n",
              "      <td>0</td>\n",
              "    </tr>\n",
              "    <tr>\n",
              "      <th>1</th>\n",
              "      <td>22</td>\n",
              "      <td>48</td>\n",
              "      <td>0.0</td>\n",
              "      <td>1293502.5</td>\n",
              "      <td>0.0</td>\n",
              "      <td>112542.58</td>\n",
              "      <td>5951000</td>\n",
              "      <td>0</td>\n",
              "    </tr>\n",
              "    <tr>\n",
              "      <th>2</th>\n",
              "      <td>49</td>\n",
              "      <td>12</td>\n",
              "      <td>127397.4</td>\n",
              "      <td>135000.0</td>\n",
              "      <td>0.0</td>\n",
              "      <td>113931.57</td>\n",
              "      <td>2029000</td>\n",
              "      <td>1</td>\n",
              "    </tr>\n",
              "    <tr>\n",
              "      <th>3</th>\n",
              "      <td>45</td>\n",
              "      <td>42</td>\n",
              "      <td>145672.3</td>\n",
              "      <td>312682.5</td>\n",
              "      <td>0.0</td>\n",
              "      <td>93826.63</td>\n",
              "      <td>7882000</td>\n",
              "      <td>1</td>\n",
              "    </tr>\n",
              "    <tr>\n",
              "      <th>4</th>\n",
              "      <td>53</td>\n",
              "      <td>24</td>\n",
              "      <td>0.0</td>\n",
              "      <td>513000.0</td>\n",
              "      <td>0.0</td>\n",
              "      <td>79084.10</td>\n",
              "      <td>4870000</td>\n",
              "      <td>1</td>\n",
              "    </tr>\n",
              "    <tr>\n",
              "      <th>...</th>\n",
              "      <td>...</td>\n",
              "      <td>...</td>\n",
              "      <td>...</td>\n",
              "      <td>...</td>\n",
              "      <td>...</td>\n",
              "      <td>...</td>\n",
              "      <td>...</td>\n",
              "      <td>...</td>\n",
              "    </tr>\n",
              "    <tr>\n",
              "      <th>995</th>\n",
              "      <td>31</td>\n",
              "      <td>12</td>\n",
              "      <td>118971.6</td>\n",
              "      <td>495985.5</td>\n",
              "      <td>0.0</td>\n",
              "      <td>83912.24</td>\n",
              "      <td>1736000</td>\n",
              "      <td>1</td>\n",
              "    </tr>\n",
              "    <tr>\n",
              "      <th>996</th>\n",
              "      <td>40</td>\n",
              "      <td>30</td>\n",
              "      <td>128841.6</td>\n",
              "      <td>1113840.0</td>\n",
              "      <td>0.0</td>\n",
              "      <td>78439.73</td>\n",
              "      <td>3857000</td>\n",
              "      <td>0</td>\n",
              "    </tr>\n",
              "    <tr>\n",
              "      <th>997</th>\n",
              "      <td>38</td>\n",
              "      <td>12</td>\n",
              "      <td>127219.7</td>\n",
              "      <td>517536.0</td>\n",
              "      <td>0.0</td>\n",
              "      <td>6776.92</td>\n",
              "      <td>804000</td>\n",
              "      <td>0</td>\n",
              "    </tr>\n",
              "    <tr>\n",
              "      <th>998</th>\n",
              "      <td>23</td>\n",
              "      <td>45</td>\n",
              "      <td>141342.4</td>\n",
              "      <td>1288350.0</td>\n",
              "      <td>0.0</td>\n",
              "      <td>9903.42</td>\n",
              "      <td>1845000</td>\n",
              "      <td>0</td>\n",
              "    </tr>\n",
              "    <tr>\n",
              "      <th>999</th>\n",
              "      <td>27</td>\n",
              "      <td>45</td>\n",
              "      <td>0.0</td>\n",
              "      <td>679500.0</td>\n",
              "      <td>0.0</td>\n",
              "      <td>91561.91</td>\n",
              "      <td>4576000</td>\n",
              "      <td>1</td>\n",
              "    </tr>\n",
              "  </tbody>\n",
              "</table>\n",
              "<p>1000 rows × 8 columns</p>\n",
              "</div>\n",
              "      <button class=\"colab-df-convert\" onclick=\"convertToInteractive('df-01573606-0678-41dc-959e-0d85f5efd1ce')\"\n",
              "              title=\"Convert this dataframe to an interactive table.\"\n",
              "              style=\"display:none;\">\n",
              "        \n",
              "  <svg xmlns=\"http://www.w3.org/2000/svg\" height=\"24px\"viewBox=\"0 0 24 24\"\n",
              "       width=\"24px\">\n",
              "    <path d=\"M0 0h24v24H0V0z\" fill=\"none\"/>\n",
              "    <path d=\"M18.56 5.44l.94 2.06.94-2.06 2.06-.94-2.06-.94-.94-2.06-.94 2.06-2.06.94zm-11 1L8.5 8.5l.94-2.06 2.06-.94-2.06-.94L8.5 2.5l-.94 2.06-2.06.94zm10 10l.94 2.06.94-2.06 2.06-.94-2.06-.94-.94-2.06-.94 2.06-2.06.94z\"/><path d=\"M17.41 7.96l-1.37-1.37c-.4-.4-.92-.59-1.43-.59-.52 0-1.04.2-1.43.59L10.3 9.45l-7.72 7.72c-.78.78-.78 2.05 0 2.83L4 21.41c.39.39.9.59 1.41.59.51 0 1.02-.2 1.41-.59l7.78-7.78 2.81-2.81c.8-.78.8-2.07 0-2.86zM5.41 20L4 18.59l7.72-7.72 1.47 1.35L5.41 20z\"/>\n",
              "  </svg>\n",
              "      </button>\n",
              "      \n",
              "  <style>\n",
              "    .colab-df-container {\n",
              "      display:flex;\n",
              "      flex-wrap:wrap;\n",
              "      gap: 12px;\n",
              "    }\n",
              "\n",
              "    .colab-df-convert {\n",
              "      background-color: #E8F0FE;\n",
              "      border: none;\n",
              "      border-radius: 50%;\n",
              "      cursor: pointer;\n",
              "      display: none;\n",
              "      fill: #1967D2;\n",
              "      height: 32px;\n",
              "      padding: 0 0 0 0;\n",
              "      width: 32px;\n",
              "    }\n",
              "\n",
              "    .colab-df-convert:hover {\n",
              "      background-color: #E2EBFA;\n",
              "      box-shadow: 0px 1px 2px rgba(60, 64, 67, 0.3), 0px 1px 3px 1px rgba(60, 64, 67, 0.15);\n",
              "      fill: #174EA6;\n",
              "    }\n",
              "\n",
              "    [theme=dark] .colab-df-convert {\n",
              "      background-color: #3B4455;\n",
              "      fill: #D2E3FC;\n",
              "    }\n",
              "\n",
              "    [theme=dark] .colab-df-convert:hover {\n",
              "      background-color: #434B5C;\n",
              "      box-shadow: 0px 1px 3px 1px rgba(0, 0, 0, 0.15);\n",
              "      filter: drop-shadow(0px 1px 2px rgba(0, 0, 0, 0.3));\n",
              "      fill: #FFFFFF;\n",
              "    }\n",
              "  </style>\n",
              "\n",
              "      <script>\n",
              "        const buttonEl =\n",
              "          document.querySelector('#df-01573606-0678-41dc-959e-0d85f5efd1ce button.colab-df-convert');\n",
              "        buttonEl.style.display =\n",
              "          google.colab.kernel.accessAllowed ? 'block' : 'none';\n",
              "\n",
              "        async function convertToInteractive(key) {\n",
              "          const element = document.querySelector('#df-01573606-0678-41dc-959e-0d85f5efd1ce');\n",
              "          const dataTable =\n",
              "            await google.colab.kernel.invokeFunction('convertToInteractive',\n",
              "                                                     [key], {});\n",
              "          if (!dataTable) return;\n",
              "\n",
              "          const docLinkHtml = 'Like what you see? Visit the ' +\n",
              "            '<a target=\"_blank\" href=https://colab.research.google.com/notebooks/data_table.ipynb>data table notebook</a>'\n",
              "            + ' to learn more about interactive tables.';\n",
              "          element.innerHTML = '';\n",
              "          dataTable['output_type'] = 'display_data';\n",
              "          await google.colab.output.renderOutput(dataTable, element);\n",
              "          const docLink = document.createElement('div');\n",
              "          docLink.innerHTML = docLinkHtml;\n",
              "          element.appendChild(docLink);\n",
              "        }\n",
              "      </script>\n",
              "    </div>\n",
              "  </div>\n",
              "  "
            ]
          },
          "metadata": {},
          "execution_count": 5
        }
      ]
    },
    {
      "cell_type": "code",
      "source": [
        "catg=df.select_dtypes(\"object\")\n",
        "catg"
      ],
      "metadata": {
        "colab": {
          "base_uri": "https://localhost:8080/",
          "height": 424
        },
        "id": "BYm8VkHxE4qh",
        "outputId": "fe740645-3d20-4ece-af50-126eb42bc2d7"
      },
      "execution_count": null,
      "outputs": [
        {
          "output_type": "execute_result",
          "data": {
            "text/plain": [
              "        Sex Housing Saving accounts           Job Marital status      Sector\n",
              "0      male     own             NaN    management        married  Government\n",
              "1    female     own          little    technician         single  Government\n",
              "2      male     own          little  entrepreneur        married     Private\n",
              "3      male    free          little   blue-collar        married  Government\n",
              "4      male    free          little  White-Collar         single     Private\n",
              "..      ...     ...             ...           ...            ...         ...\n",
              "995  female     own          little   blue-collar        married     Private\n",
              "996    male     own          little        admin.        married  Government\n",
              "997    male     own          little   blue-collar        married     Private\n",
              "998    male    free          little      services        married  Government\n",
              "999    male     own        moderate    technician         single     Private\n",
              "\n",
              "[1000 rows x 6 columns]"
            ],
            "text/html": [
              "\n",
              "  <div id=\"df-f28c9520-b720-4d11-9df1-11aeeef344f0\">\n",
              "    <div class=\"colab-df-container\">\n",
              "      <div>\n",
              "<style scoped>\n",
              "    .dataframe tbody tr th:only-of-type {\n",
              "        vertical-align: middle;\n",
              "    }\n",
              "\n",
              "    .dataframe tbody tr th {\n",
              "        vertical-align: top;\n",
              "    }\n",
              "\n",
              "    .dataframe thead th {\n",
              "        text-align: right;\n",
              "    }\n",
              "</style>\n",
              "<table border=\"1\" class=\"dataframe\">\n",
              "  <thead>\n",
              "    <tr style=\"text-align: right;\">\n",
              "      <th></th>\n",
              "      <th>Sex</th>\n",
              "      <th>Housing</th>\n",
              "      <th>Saving accounts</th>\n",
              "      <th>Job</th>\n",
              "      <th>Marital status</th>\n",
              "      <th>Sector</th>\n",
              "    </tr>\n",
              "  </thead>\n",
              "  <tbody>\n",
              "    <tr>\n",
              "      <th>0</th>\n",
              "      <td>male</td>\n",
              "      <td>own</td>\n",
              "      <td>NaN</td>\n",
              "      <td>management</td>\n",
              "      <td>married</td>\n",
              "      <td>Government</td>\n",
              "    </tr>\n",
              "    <tr>\n",
              "      <th>1</th>\n",
              "      <td>female</td>\n",
              "      <td>own</td>\n",
              "      <td>little</td>\n",
              "      <td>technician</td>\n",
              "      <td>single</td>\n",
              "      <td>Government</td>\n",
              "    </tr>\n",
              "    <tr>\n",
              "      <th>2</th>\n",
              "      <td>male</td>\n",
              "      <td>own</td>\n",
              "      <td>little</td>\n",
              "      <td>entrepreneur</td>\n",
              "      <td>married</td>\n",
              "      <td>Private</td>\n",
              "    </tr>\n",
              "    <tr>\n",
              "      <th>3</th>\n",
              "      <td>male</td>\n",
              "      <td>free</td>\n",
              "      <td>little</td>\n",
              "      <td>blue-collar</td>\n",
              "      <td>married</td>\n",
              "      <td>Government</td>\n",
              "    </tr>\n",
              "    <tr>\n",
              "      <th>4</th>\n",
              "      <td>male</td>\n",
              "      <td>free</td>\n",
              "      <td>little</td>\n",
              "      <td>White-Collar</td>\n",
              "      <td>single</td>\n",
              "      <td>Private</td>\n",
              "    </tr>\n",
              "    <tr>\n",
              "      <th>...</th>\n",
              "      <td>...</td>\n",
              "      <td>...</td>\n",
              "      <td>...</td>\n",
              "      <td>...</td>\n",
              "      <td>...</td>\n",
              "      <td>...</td>\n",
              "    </tr>\n",
              "    <tr>\n",
              "      <th>995</th>\n",
              "      <td>female</td>\n",
              "      <td>own</td>\n",
              "      <td>little</td>\n",
              "      <td>blue-collar</td>\n",
              "      <td>married</td>\n",
              "      <td>Private</td>\n",
              "    </tr>\n",
              "    <tr>\n",
              "      <th>996</th>\n",
              "      <td>male</td>\n",
              "      <td>own</td>\n",
              "      <td>little</td>\n",
              "      <td>admin.</td>\n",
              "      <td>married</td>\n",
              "      <td>Government</td>\n",
              "    </tr>\n",
              "    <tr>\n",
              "      <th>997</th>\n",
              "      <td>male</td>\n",
              "      <td>own</td>\n",
              "      <td>little</td>\n",
              "      <td>blue-collar</td>\n",
              "      <td>married</td>\n",
              "      <td>Private</td>\n",
              "    </tr>\n",
              "    <tr>\n",
              "      <th>998</th>\n",
              "      <td>male</td>\n",
              "      <td>free</td>\n",
              "      <td>little</td>\n",
              "      <td>services</td>\n",
              "      <td>married</td>\n",
              "      <td>Government</td>\n",
              "    </tr>\n",
              "    <tr>\n",
              "      <th>999</th>\n",
              "      <td>male</td>\n",
              "      <td>own</td>\n",
              "      <td>moderate</td>\n",
              "      <td>technician</td>\n",
              "      <td>single</td>\n",
              "      <td>Private</td>\n",
              "    </tr>\n",
              "  </tbody>\n",
              "</table>\n",
              "<p>1000 rows × 6 columns</p>\n",
              "</div>\n",
              "      <button class=\"colab-df-convert\" onclick=\"convertToInteractive('df-f28c9520-b720-4d11-9df1-11aeeef344f0')\"\n",
              "              title=\"Convert this dataframe to an interactive table.\"\n",
              "              style=\"display:none;\">\n",
              "        \n",
              "  <svg xmlns=\"http://www.w3.org/2000/svg\" height=\"24px\"viewBox=\"0 0 24 24\"\n",
              "       width=\"24px\">\n",
              "    <path d=\"M0 0h24v24H0V0z\" fill=\"none\"/>\n",
              "    <path d=\"M18.56 5.44l.94 2.06.94-2.06 2.06-.94-2.06-.94-.94-2.06-.94 2.06-2.06.94zm-11 1L8.5 8.5l.94-2.06 2.06-.94-2.06-.94L8.5 2.5l-.94 2.06-2.06.94zm10 10l.94 2.06.94-2.06 2.06-.94-2.06-.94-.94-2.06-.94 2.06-2.06.94z\"/><path d=\"M17.41 7.96l-1.37-1.37c-.4-.4-.92-.59-1.43-.59-.52 0-1.04.2-1.43.59L10.3 9.45l-7.72 7.72c-.78.78-.78 2.05 0 2.83L4 21.41c.39.39.9.59 1.41.59.51 0 1.02-.2 1.41-.59l7.78-7.78 2.81-2.81c.8-.78.8-2.07 0-2.86zM5.41 20L4 18.59l7.72-7.72 1.47 1.35L5.41 20z\"/>\n",
              "  </svg>\n",
              "      </button>\n",
              "      \n",
              "  <style>\n",
              "    .colab-df-container {\n",
              "      display:flex;\n",
              "      flex-wrap:wrap;\n",
              "      gap: 12px;\n",
              "    }\n",
              "\n",
              "    .colab-df-convert {\n",
              "      background-color: #E8F0FE;\n",
              "      border: none;\n",
              "      border-radius: 50%;\n",
              "      cursor: pointer;\n",
              "      display: none;\n",
              "      fill: #1967D2;\n",
              "      height: 32px;\n",
              "      padding: 0 0 0 0;\n",
              "      width: 32px;\n",
              "    }\n",
              "\n",
              "    .colab-df-convert:hover {\n",
              "      background-color: #E2EBFA;\n",
              "      box-shadow: 0px 1px 2px rgba(60, 64, 67, 0.3), 0px 1px 3px 1px rgba(60, 64, 67, 0.15);\n",
              "      fill: #174EA6;\n",
              "    }\n",
              "\n",
              "    [theme=dark] .colab-df-convert {\n",
              "      background-color: #3B4455;\n",
              "      fill: #D2E3FC;\n",
              "    }\n",
              "\n",
              "    [theme=dark] .colab-df-convert:hover {\n",
              "      background-color: #434B5C;\n",
              "      box-shadow: 0px 1px 3px 1px rgba(0, 0, 0, 0.15);\n",
              "      filter: drop-shadow(0px 1px 2px rgba(0, 0, 0, 0.3));\n",
              "      fill: #FFFFFF;\n",
              "    }\n",
              "  </style>\n",
              "\n",
              "      <script>\n",
              "        const buttonEl =\n",
              "          document.querySelector('#df-f28c9520-b720-4d11-9df1-11aeeef344f0 button.colab-df-convert');\n",
              "        buttonEl.style.display =\n",
              "          google.colab.kernel.accessAllowed ? 'block' : 'none';\n",
              "\n",
              "        async function convertToInteractive(key) {\n",
              "          const element = document.querySelector('#df-f28c9520-b720-4d11-9df1-11aeeef344f0');\n",
              "          const dataTable =\n",
              "            await google.colab.kernel.invokeFunction('convertToInteractive',\n",
              "                                                     [key], {});\n",
              "          if (!dataTable) return;\n",
              "\n",
              "          const docLinkHtml = 'Like what you see? Visit the ' +\n",
              "            '<a target=\"_blank\" href=https://colab.research.google.com/notebooks/data_table.ipynb>data table notebook</a>'\n",
              "            + ' to learn more about interactive tables.';\n",
              "          element.innerHTML = '';\n",
              "          dataTable['output_type'] = 'display_data';\n",
              "          await google.colab.output.renderOutput(dataTable, element);\n",
              "          const docLink = document.createElement('div');\n",
              "          docLink.innerHTML = docLinkHtml;\n",
              "          element.appendChild(docLink);\n",
              "        }\n",
              "      </script>\n",
              "    </div>\n",
              "  </div>\n",
              "  "
            ]
          },
          "metadata": {},
          "execution_count": 6
        }
      ]
    },
    {
      "cell_type": "code",
      "source": [
        "print(catg.isnull().sum())"
      ],
      "metadata": {
        "id": "RSZtRUK7YhxT",
        "colab": {
          "base_uri": "https://localhost:8080/"
        },
        "outputId": "411d40da-8962-4a0c-a55d-b97ddeff3515"
      },
      "execution_count": null,
      "outputs": [
        {
          "output_type": "stream",
          "name": "stdout",
          "text": [
            "Sex                  0\n",
            "Housing              0\n",
            "Saving accounts    183\n",
            "Job                  0\n",
            "Marital status       0\n",
            "Sector              23\n",
            "dtype: int64\n"
          ]
        }
      ]
    },
    {
      "cell_type": "code",
      "source": [
        "newcatg=catg.fillna('empty')\n",
        "newcatg"
      ],
      "metadata": {
        "colab": {
          "base_uri": "https://localhost:8080/",
          "height": 424
        },
        "id": "BAFav-nWYl8_",
        "outputId": "355bdd38-a6c5-4a68-9ee6-e9a022d55545"
      },
      "execution_count": null,
      "outputs": [
        {
          "output_type": "execute_result",
          "data": {
            "text/plain": [
              "        Sex Housing Saving accounts           Job Marital status      Sector\n",
              "0      male     own           empty    management        married  Government\n",
              "1    female     own          little    technician         single  Government\n",
              "2      male     own          little  entrepreneur        married     Private\n",
              "3      male    free          little   blue-collar        married  Government\n",
              "4      male    free          little  White-Collar         single     Private\n",
              "..      ...     ...             ...           ...            ...         ...\n",
              "995  female     own          little   blue-collar        married     Private\n",
              "996    male     own          little        admin.        married  Government\n",
              "997    male     own          little   blue-collar        married     Private\n",
              "998    male    free          little      services        married  Government\n",
              "999    male     own        moderate    technician         single     Private\n",
              "\n",
              "[1000 rows x 6 columns]"
            ],
            "text/html": [
              "\n",
              "  <div id=\"df-d3579c8f-e99a-4a76-b187-abf0f85636d9\">\n",
              "    <div class=\"colab-df-container\">\n",
              "      <div>\n",
              "<style scoped>\n",
              "    .dataframe tbody tr th:only-of-type {\n",
              "        vertical-align: middle;\n",
              "    }\n",
              "\n",
              "    .dataframe tbody tr th {\n",
              "        vertical-align: top;\n",
              "    }\n",
              "\n",
              "    .dataframe thead th {\n",
              "        text-align: right;\n",
              "    }\n",
              "</style>\n",
              "<table border=\"1\" class=\"dataframe\">\n",
              "  <thead>\n",
              "    <tr style=\"text-align: right;\">\n",
              "      <th></th>\n",
              "      <th>Sex</th>\n",
              "      <th>Housing</th>\n",
              "      <th>Saving accounts</th>\n",
              "      <th>Job</th>\n",
              "      <th>Marital status</th>\n",
              "      <th>Sector</th>\n",
              "    </tr>\n",
              "  </thead>\n",
              "  <tbody>\n",
              "    <tr>\n",
              "      <th>0</th>\n",
              "      <td>male</td>\n",
              "      <td>own</td>\n",
              "      <td>empty</td>\n",
              "      <td>management</td>\n",
              "      <td>married</td>\n",
              "      <td>Government</td>\n",
              "    </tr>\n",
              "    <tr>\n",
              "      <th>1</th>\n",
              "      <td>female</td>\n",
              "      <td>own</td>\n",
              "      <td>little</td>\n",
              "      <td>technician</td>\n",
              "      <td>single</td>\n",
              "      <td>Government</td>\n",
              "    </tr>\n",
              "    <tr>\n",
              "      <th>2</th>\n",
              "      <td>male</td>\n",
              "      <td>own</td>\n",
              "      <td>little</td>\n",
              "      <td>entrepreneur</td>\n",
              "      <td>married</td>\n",
              "      <td>Private</td>\n",
              "    </tr>\n",
              "    <tr>\n",
              "      <th>3</th>\n",
              "      <td>male</td>\n",
              "      <td>free</td>\n",
              "      <td>little</td>\n",
              "      <td>blue-collar</td>\n",
              "      <td>married</td>\n",
              "      <td>Government</td>\n",
              "    </tr>\n",
              "    <tr>\n",
              "      <th>4</th>\n",
              "      <td>male</td>\n",
              "      <td>free</td>\n",
              "      <td>little</td>\n",
              "      <td>White-Collar</td>\n",
              "      <td>single</td>\n",
              "      <td>Private</td>\n",
              "    </tr>\n",
              "    <tr>\n",
              "      <th>...</th>\n",
              "      <td>...</td>\n",
              "      <td>...</td>\n",
              "      <td>...</td>\n",
              "      <td>...</td>\n",
              "      <td>...</td>\n",
              "      <td>...</td>\n",
              "    </tr>\n",
              "    <tr>\n",
              "      <th>995</th>\n",
              "      <td>female</td>\n",
              "      <td>own</td>\n",
              "      <td>little</td>\n",
              "      <td>blue-collar</td>\n",
              "      <td>married</td>\n",
              "      <td>Private</td>\n",
              "    </tr>\n",
              "    <tr>\n",
              "      <th>996</th>\n",
              "      <td>male</td>\n",
              "      <td>own</td>\n",
              "      <td>little</td>\n",
              "      <td>admin.</td>\n",
              "      <td>married</td>\n",
              "      <td>Government</td>\n",
              "    </tr>\n",
              "    <tr>\n",
              "      <th>997</th>\n",
              "      <td>male</td>\n",
              "      <td>own</td>\n",
              "      <td>little</td>\n",
              "      <td>blue-collar</td>\n",
              "      <td>married</td>\n",
              "      <td>Private</td>\n",
              "    </tr>\n",
              "    <tr>\n",
              "      <th>998</th>\n",
              "      <td>male</td>\n",
              "      <td>free</td>\n",
              "      <td>little</td>\n",
              "      <td>services</td>\n",
              "      <td>married</td>\n",
              "      <td>Government</td>\n",
              "    </tr>\n",
              "    <tr>\n",
              "      <th>999</th>\n",
              "      <td>male</td>\n",
              "      <td>own</td>\n",
              "      <td>moderate</td>\n",
              "      <td>technician</td>\n",
              "      <td>single</td>\n",
              "      <td>Private</td>\n",
              "    </tr>\n",
              "  </tbody>\n",
              "</table>\n",
              "<p>1000 rows × 6 columns</p>\n",
              "</div>\n",
              "      <button class=\"colab-df-convert\" onclick=\"convertToInteractive('df-d3579c8f-e99a-4a76-b187-abf0f85636d9')\"\n",
              "              title=\"Convert this dataframe to an interactive table.\"\n",
              "              style=\"display:none;\">\n",
              "        \n",
              "  <svg xmlns=\"http://www.w3.org/2000/svg\" height=\"24px\"viewBox=\"0 0 24 24\"\n",
              "       width=\"24px\">\n",
              "    <path d=\"M0 0h24v24H0V0z\" fill=\"none\"/>\n",
              "    <path d=\"M18.56 5.44l.94 2.06.94-2.06 2.06-.94-2.06-.94-.94-2.06-.94 2.06-2.06.94zm-11 1L8.5 8.5l.94-2.06 2.06-.94-2.06-.94L8.5 2.5l-.94 2.06-2.06.94zm10 10l.94 2.06.94-2.06 2.06-.94-2.06-.94-.94-2.06-.94 2.06-2.06.94z\"/><path d=\"M17.41 7.96l-1.37-1.37c-.4-.4-.92-.59-1.43-.59-.52 0-1.04.2-1.43.59L10.3 9.45l-7.72 7.72c-.78.78-.78 2.05 0 2.83L4 21.41c.39.39.9.59 1.41.59.51 0 1.02-.2 1.41-.59l7.78-7.78 2.81-2.81c.8-.78.8-2.07 0-2.86zM5.41 20L4 18.59l7.72-7.72 1.47 1.35L5.41 20z\"/>\n",
              "  </svg>\n",
              "      </button>\n",
              "      \n",
              "  <style>\n",
              "    .colab-df-container {\n",
              "      display:flex;\n",
              "      flex-wrap:wrap;\n",
              "      gap: 12px;\n",
              "    }\n",
              "\n",
              "    .colab-df-convert {\n",
              "      background-color: #E8F0FE;\n",
              "      border: none;\n",
              "      border-radius: 50%;\n",
              "      cursor: pointer;\n",
              "      display: none;\n",
              "      fill: #1967D2;\n",
              "      height: 32px;\n",
              "      padding: 0 0 0 0;\n",
              "      width: 32px;\n",
              "    }\n",
              "\n",
              "    .colab-df-convert:hover {\n",
              "      background-color: #E2EBFA;\n",
              "      box-shadow: 0px 1px 2px rgba(60, 64, 67, 0.3), 0px 1px 3px 1px rgba(60, 64, 67, 0.15);\n",
              "      fill: #174EA6;\n",
              "    }\n",
              "\n",
              "    [theme=dark] .colab-df-convert {\n",
              "      background-color: #3B4455;\n",
              "      fill: #D2E3FC;\n",
              "    }\n",
              "\n",
              "    [theme=dark] .colab-df-convert:hover {\n",
              "      background-color: #434B5C;\n",
              "      box-shadow: 0px 1px 3px 1px rgba(0, 0, 0, 0.15);\n",
              "      filter: drop-shadow(0px 1px 2px rgba(0, 0, 0, 0.3));\n",
              "      fill: #FFFFFF;\n",
              "    }\n",
              "  </style>\n",
              "\n",
              "      <script>\n",
              "        const buttonEl =\n",
              "          document.querySelector('#df-d3579c8f-e99a-4a76-b187-abf0f85636d9 button.colab-df-convert');\n",
              "        buttonEl.style.display =\n",
              "          google.colab.kernel.accessAllowed ? 'block' : 'none';\n",
              "\n",
              "        async function convertToInteractive(key) {\n",
              "          const element = document.querySelector('#df-d3579c8f-e99a-4a76-b187-abf0f85636d9');\n",
              "          const dataTable =\n",
              "            await google.colab.kernel.invokeFunction('convertToInteractive',\n",
              "                                                     [key], {});\n",
              "          if (!dataTable) return;\n",
              "\n",
              "          const docLinkHtml = 'Like what you see? Visit the ' +\n",
              "            '<a target=\"_blank\" href=https://colab.research.google.com/notebooks/data_table.ipynb>data table notebook</a>'\n",
              "            + ' to learn more about interactive tables.';\n",
              "          element.innerHTML = '';\n",
              "          dataTable['output_type'] = 'display_data';\n",
              "          await google.colab.output.renderOutput(dataTable, element);\n",
              "          const docLink = document.createElement('div');\n",
              "          docLink.innerHTML = docLinkHtml;\n",
              "          element.appendChild(docLink);\n",
              "        }\n",
              "      </script>\n",
              "    </div>\n",
              "  </div>\n",
              "  "
            ]
          },
          "metadata": {},
          "execution_count": 8
        }
      ]
    },
    {
      "cell_type": "code",
      "source": [
        "from sklearn.preprocessing import OrdinalEncoder\n",
        "#catg[\"Marital status\"].unique()\n",
        "newcatg[\"Job\"].unique()"
      ],
      "metadata": {
        "id": "JgDo4BT8UkaN",
        "colab": {
          "base_uri": "https://localhost:8080/"
        },
        "outputId": "2771c193-851b-4f33-aa9d-612c2922ad31"
      },
      "execution_count": null,
      "outputs": [
        {
          "output_type": "execute_result",
          "data": {
            "text/plain": [
              "array(['management', 'technician', 'entrepreneur', 'blue-collar',\n",
              "       'White-Collar', 'retired', 'admin.', 'services', 'self-employed',\n",
              "       'unemployed', 'housemaid', 'student'], dtype=object)"
            ]
          },
          "metadata": {},
          "execution_count": 9
        }
      ]
    },
    {
      "cell_type": "code",
      "source": [
        "enc=OrdinalEncoder()\n",
        "Maritalstatus=['single', 'divorced', 'married']\n",
        "enc=OrdinalEncoder(categories=[Maritalstatus])\n",
        "enc.fit_transform(newcatg[[\"Marital status\"]])\n",
        "newcatg[[\"Marital status\"]]=enc.fit_transform(newcatg[[\"Marital status\"]])\n"
      ],
      "metadata": {
        "id": "Sa_nDXg1onNR"
      },
      "execution_count": null,
      "outputs": []
    },
    {
      "cell_type": "code",
      "source": [
        "enc=OrdinalEncoder()\n",
        "sex=['male', 'female']\n",
        "enc=OrdinalEncoder(categories=[sex])\n",
        "enc.fit_transform(newcatg[[\"Sex\"]])\n",
        "newcatg[[\"Sex\"]]=enc.fit_transform(newcatg[[\"Sex\"]])"
      ],
      "metadata": {
        "id": "-FKjHH1NqPFy"
      },
      "execution_count": null,
      "outputs": []
    },
    {
      "cell_type": "code",
      "source": [
        "enc=OrdinalEncoder()\n",
        "Savingaccounts=['empty','little', 'moderate','quite rich', 'rich']\n",
        "enc=OrdinalEncoder(categories=[Savingaccounts])\n",
        "enc.fit_transform(newcatg[[\"Saving accounts\"]])\n",
        "newcatg[[\"Saving accounts\"]]=enc.fit_transform(newcatg[[\"Saving accounts\"]])"
      ],
      "metadata": {
        "id": "lfjXiJVor6xR"
      },
      "execution_count": null,
      "outputs": []
    },
    {
      "cell_type": "code",
      "source": [
        "enc=OrdinalEncoder()\n",
        "job=  ['unemployed','housemaid','entrepreneur','self-employed','services','technician','blue-collar', 'White-Collar','management','admin.', 'retired','student']\n",
        "enc=OrdinalEncoder(categories=[job])\n",
        "enc.fit_transform(newcatg[[\"Job\"]])\n",
        "newcatg[[\"Job\"]]=enc.fit_transform(newcatg[[\"Job\"]])"
      ],
      "metadata": {
        "id": "J3pgv0kqsfHd"
      },
      "execution_count": null,
      "outputs": []
    },
    {
      "cell_type": "code",
      "source": [
        "enc=OrdinalEncoder()\n",
        "sector=  ['empty','Private','Government']\n",
        "enc=OrdinalEncoder(categories=[sector])\n",
        "enc.fit_transform(newcatg[[\"Sector\"]])\n",
        "newcatg[[\"Sector\"]]=enc.fit_transform(newcatg[[\"Sector\"]])"
      ],
      "metadata": {
        "id": "Y_72InAmuIXy"
      },
      "execution_count": null,
      "outputs": []
    },
    {
      "cell_type": "code",
      "source": [
        "enc=OrdinalEncoder()\n",
        "housing=  ['rent','free','own']\n",
        "enc=OrdinalEncoder(categories=[housing])\n",
        "enc.fit_transform(newcatg[[\"Housing\"]])\n",
        "newcatg[[\"Housing\"]]=enc.fit_transform(newcatg[[\"Housing\"]])"
      ],
      "metadata": {
        "id": "1IHEOyhNviv-"
      },
      "execution_count": null,
      "outputs": []
    },
    {
      "cell_type": "code",
      "source": [
        "newcatg"
      ],
      "metadata": {
        "colab": {
          "base_uri": "https://localhost:8080/",
          "height": 424
        },
        "id": "uDNiRcZAuoRT",
        "outputId": "947b1466-5e0e-4851-c3f7-63e05e7aa391"
      },
      "execution_count": null,
      "outputs": [
        {
          "output_type": "execute_result",
          "data": {
            "text/plain": [
              "     Sex  Housing  Saving accounts  Job  Marital status  Sector\n",
              "0    0.0      2.0              0.0  8.0             2.0     2.0\n",
              "1    1.0      2.0              1.0  5.0             0.0     2.0\n",
              "2    0.0      2.0              1.0  2.0             2.0     1.0\n",
              "3    0.0      1.0              1.0  6.0             2.0     2.0\n",
              "4    0.0      1.0              1.0  7.0             0.0     1.0\n",
              "..   ...      ...              ...  ...             ...     ...\n",
              "995  1.0      2.0              1.0  6.0             2.0     1.0\n",
              "996  0.0      2.0              1.0  9.0             2.0     2.0\n",
              "997  0.0      2.0              1.0  6.0             2.0     1.0\n",
              "998  0.0      1.0              1.0  4.0             2.0     2.0\n",
              "999  0.0      2.0              2.0  5.0             0.0     1.0\n",
              "\n",
              "[1000 rows x 6 columns]"
            ],
            "text/html": [
              "\n",
              "  <div id=\"df-addc4f57-1894-4209-a941-13d7b0f8a36d\">\n",
              "    <div class=\"colab-df-container\">\n",
              "      <div>\n",
              "<style scoped>\n",
              "    .dataframe tbody tr th:only-of-type {\n",
              "        vertical-align: middle;\n",
              "    }\n",
              "\n",
              "    .dataframe tbody tr th {\n",
              "        vertical-align: top;\n",
              "    }\n",
              "\n",
              "    .dataframe thead th {\n",
              "        text-align: right;\n",
              "    }\n",
              "</style>\n",
              "<table border=\"1\" class=\"dataframe\">\n",
              "  <thead>\n",
              "    <tr style=\"text-align: right;\">\n",
              "      <th></th>\n",
              "      <th>Sex</th>\n",
              "      <th>Housing</th>\n",
              "      <th>Saving accounts</th>\n",
              "      <th>Job</th>\n",
              "      <th>Marital status</th>\n",
              "      <th>Sector</th>\n",
              "    </tr>\n",
              "  </thead>\n",
              "  <tbody>\n",
              "    <tr>\n",
              "      <th>0</th>\n",
              "      <td>0.0</td>\n",
              "      <td>2.0</td>\n",
              "      <td>0.0</td>\n",
              "      <td>8.0</td>\n",
              "      <td>2.0</td>\n",
              "      <td>2.0</td>\n",
              "    </tr>\n",
              "    <tr>\n",
              "      <th>1</th>\n",
              "      <td>1.0</td>\n",
              "      <td>2.0</td>\n",
              "      <td>1.0</td>\n",
              "      <td>5.0</td>\n",
              "      <td>0.0</td>\n",
              "      <td>2.0</td>\n",
              "    </tr>\n",
              "    <tr>\n",
              "      <th>2</th>\n",
              "      <td>0.0</td>\n",
              "      <td>2.0</td>\n",
              "      <td>1.0</td>\n",
              "      <td>2.0</td>\n",
              "      <td>2.0</td>\n",
              "      <td>1.0</td>\n",
              "    </tr>\n",
              "    <tr>\n",
              "      <th>3</th>\n",
              "      <td>0.0</td>\n",
              "      <td>1.0</td>\n",
              "      <td>1.0</td>\n",
              "      <td>6.0</td>\n",
              "      <td>2.0</td>\n",
              "      <td>2.0</td>\n",
              "    </tr>\n",
              "    <tr>\n",
              "      <th>4</th>\n",
              "      <td>0.0</td>\n",
              "      <td>1.0</td>\n",
              "      <td>1.0</td>\n",
              "      <td>7.0</td>\n",
              "      <td>0.0</td>\n",
              "      <td>1.0</td>\n",
              "    </tr>\n",
              "    <tr>\n",
              "      <th>...</th>\n",
              "      <td>...</td>\n",
              "      <td>...</td>\n",
              "      <td>...</td>\n",
              "      <td>...</td>\n",
              "      <td>...</td>\n",
              "      <td>...</td>\n",
              "    </tr>\n",
              "    <tr>\n",
              "      <th>995</th>\n",
              "      <td>1.0</td>\n",
              "      <td>2.0</td>\n",
              "      <td>1.0</td>\n",
              "      <td>6.0</td>\n",
              "      <td>2.0</td>\n",
              "      <td>1.0</td>\n",
              "    </tr>\n",
              "    <tr>\n",
              "      <th>996</th>\n",
              "      <td>0.0</td>\n",
              "      <td>2.0</td>\n",
              "      <td>1.0</td>\n",
              "      <td>9.0</td>\n",
              "      <td>2.0</td>\n",
              "      <td>2.0</td>\n",
              "    </tr>\n",
              "    <tr>\n",
              "      <th>997</th>\n",
              "      <td>0.0</td>\n",
              "      <td>2.0</td>\n",
              "      <td>1.0</td>\n",
              "      <td>6.0</td>\n",
              "      <td>2.0</td>\n",
              "      <td>1.0</td>\n",
              "    </tr>\n",
              "    <tr>\n",
              "      <th>998</th>\n",
              "      <td>0.0</td>\n",
              "      <td>1.0</td>\n",
              "      <td>1.0</td>\n",
              "      <td>4.0</td>\n",
              "      <td>2.0</td>\n",
              "      <td>2.0</td>\n",
              "    </tr>\n",
              "    <tr>\n",
              "      <th>999</th>\n",
              "      <td>0.0</td>\n",
              "      <td>2.0</td>\n",
              "      <td>2.0</td>\n",
              "      <td>5.0</td>\n",
              "      <td>0.0</td>\n",
              "      <td>1.0</td>\n",
              "    </tr>\n",
              "  </tbody>\n",
              "</table>\n",
              "<p>1000 rows × 6 columns</p>\n",
              "</div>\n",
              "      <button class=\"colab-df-convert\" onclick=\"convertToInteractive('df-addc4f57-1894-4209-a941-13d7b0f8a36d')\"\n",
              "              title=\"Convert this dataframe to an interactive table.\"\n",
              "              style=\"display:none;\">\n",
              "        \n",
              "  <svg xmlns=\"http://www.w3.org/2000/svg\" height=\"24px\"viewBox=\"0 0 24 24\"\n",
              "       width=\"24px\">\n",
              "    <path d=\"M0 0h24v24H0V0z\" fill=\"none\"/>\n",
              "    <path d=\"M18.56 5.44l.94 2.06.94-2.06 2.06-.94-2.06-.94-.94-2.06-.94 2.06-2.06.94zm-11 1L8.5 8.5l.94-2.06 2.06-.94-2.06-.94L8.5 2.5l-.94 2.06-2.06.94zm10 10l.94 2.06.94-2.06 2.06-.94-2.06-.94-.94-2.06-.94 2.06-2.06.94z\"/><path d=\"M17.41 7.96l-1.37-1.37c-.4-.4-.92-.59-1.43-.59-.52 0-1.04.2-1.43.59L10.3 9.45l-7.72 7.72c-.78.78-.78 2.05 0 2.83L4 21.41c.39.39.9.59 1.41.59.51 0 1.02-.2 1.41-.59l7.78-7.78 2.81-2.81c.8-.78.8-2.07 0-2.86zM5.41 20L4 18.59l7.72-7.72 1.47 1.35L5.41 20z\"/>\n",
              "  </svg>\n",
              "      </button>\n",
              "      \n",
              "  <style>\n",
              "    .colab-df-container {\n",
              "      display:flex;\n",
              "      flex-wrap:wrap;\n",
              "      gap: 12px;\n",
              "    }\n",
              "\n",
              "    .colab-df-convert {\n",
              "      background-color: #E8F0FE;\n",
              "      border: none;\n",
              "      border-radius: 50%;\n",
              "      cursor: pointer;\n",
              "      display: none;\n",
              "      fill: #1967D2;\n",
              "      height: 32px;\n",
              "      padding: 0 0 0 0;\n",
              "      width: 32px;\n",
              "    }\n",
              "\n",
              "    .colab-df-convert:hover {\n",
              "      background-color: #E2EBFA;\n",
              "      box-shadow: 0px 1px 2px rgba(60, 64, 67, 0.3), 0px 1px 3px 1px rgba(60, 64, 67, 0.15);\n",
              "      fill: #174EA6;\n",
              "    }\n",
              "\n",
              "    [theme=dark] .colab-df-convert {\n",
              "      background-color: #3B4455;\n",
              "      fill: #D2E3FC;\n",
              "    }\n",
              "\n",
              "    [theme=dark] .colab-df-convert:hover {\n",
              "      background-color: #434B5C;\n",
              "      box-shadow: 0px 1px 3px 1px rgba(0, 0, 0, 0.15);\n",
              "      filter: drop-shadow(0px 1px 2px rgba(0, 0, 0, 0.3));\n",
              "      fill: #FFFFFF;\n",
              "    }\n",
              "  </style>\n",
              "\n",
              "      <script>\n",
              "        const buttonEl =\n",
              "          document.querySelector('#df-addc4f57-1894-4209-a941-13d7b0f8a36d button.colab-df-convert');\n",
              "        buttonEl.style.display =\n",
              "          google.colab.kernel.accessAllowed ? 'block' : 'none';\n",
              "\n",
              "        async function convertToInteractive(key) {\n",
              "          const element = document.querySelector('#df-addc4f57-1894-4209-a941-13d7b0f8a36d');\n",
              "          const dataTable =\n",
              "            await google.colab.kernel.invokeFunction('convertToInteractive',\n",
              "                                                     [key], {});\n",
              "          if (!dataTable) return;\n",
              "\n",
              "          const docLinkHtml = 'Like what you see? Visit the ' +\n",
              "            '<a target=\"_blank\" href=https://colab.research.google.com/notebooks/data_table.ipynb>data table notebook</a>'\n",
              "            + ' to learn more about interactive tables.';\n",
              "          element.innerHTML = '';\n",
              "          dataTable['output_type'] = 'display_data';\n",
              "          await google.colab.output.renderOutput(dataTable, element);\n",
              "          const docLink = document.createElement('div');\n",
              "          docLink.innerHTML = docLinkHtml;\n",
              "          element.appendChild(docLink);\n",
              "        }\n",
              "      </script>\n",
              "    </div>\n",
              "  </div>\n",
              "  "
            ]
          },
          "metadata": {},
          "execution_count": 16
        }
      ]
    },
    {
      "cell_type": "code",
      "source": [
        "df1=num.join(newcatg)\n",
        "df1"
      ],
      "metadata": {
        "colab": {
          "base_uri": "https://localhost:8080/",
          "height": 424
        },
        "id": "HEwZiJ4EvXbF",
        "outputId": "3ba9edb1-5036-4276-dafd-e418a5311ab7"
      },
      "execution_count": null,
      "outputs": [
        {
          "output_type": "execute_result",
          "data": {
            "text/plain": [
              "     Age  Duration  Spouse - Salary  House Loan  Rent  amount     Salary  \\\n",
              "0     67         6         156646.4    406597.5           0.0  101348.88   \n",
              "1     22        48              0.0   1293502.5           0.0  112542.58   \n",
              "2     49        12         127397.4    135000.0           0.0  113931.57   \n",
              "3     45        42         145672.3    312682.5           0.0   93826.63   \n",
              "4     53        24              0.0    513000.0           0.0   79084.10   \n",
              "..   ...       ...              ...         ...           ...        ...   \n",
              "995   31        12         118971.6    495985.5           0.0   83912.24   \n",
              "996   40        30         128841.6   1113840.0           0.0   78439.73   \n",
              "997   38        12         127219.7    517536.0           0.0    6776.92   \n",
              "998   23        45         141342.4   1288350.0           0.0    9903.42   \n",
              "999   27        45              0.0    679500.0           0.0   91561.91   \n",
              "\n",
              "     Credit amount  Target  Sex  Housing  Saving accounts  Job  \\\n",
              "0          1196000       0  0.0      2.0              0.0  8.0   \n",
              "1          5951000       0  1.0      2.0              1.0  5.0   \n",
              "2          2029000       1  0.0      2.0              1.0  2.0   \n",
              "3          7882000       1  0.0      1.0              1.0  6.0   \n",
              "4          4870000       1  0.0      1.0              1.0  7.0   \n",
              "..             ...     ...  ...      ...              ...  ...   \n",
              "995        1736000       1  1.0      2.0              1.0  6.0   \n",
              "996        3857000       0  0.0      2.0              1.0  9.0   \n",
              "997         804000       0  0.0      2.0              1.0  6.0   \n",
              "998        1845000       0  0.0      1.0              1.0  4.0   \n",
              "999        4576000       1  0.0      2.0              2.0  5.0   \n",
              "\n",
              "     Marital status  Sector  \n",
              "0               2.0     2.0  \n",
              "1               0.0     2.0  \n",
              "2               2.0     1.0  \n",
              "3               2.0     2.0  \n",
              "4               0.0     1.0  \n",
              "..              ...     ...  \n",
              "995             2.0     1.0  \n",
              "996             2.0     2.0  \n",
              "997             2.0     1.0  \n",
              "998             2.0     2.0  \n",
              "999             0.0     1.0  \n",
              "\n",
              "[1000 rows x 14 columns]"
            ],
            "text/html": [
              "\n",
              "  <div id=\"df-9e9fdb75-40fe-4957-9e3d-0865c1f7f3d5\">\n",
              "    <div class=\"colab-df-container\">\n",
              "      <div>\n",
              "<style scoped>\n",
              "    .dataframe tbody tr th:only-of-type {\n",
              "        vertical-align: middle;\n",
              "    }\n",
              "\n",
              "    .dataframe tbody tr th {\n",
              "        vertical-align: top;\n",
              "    }\n",
              "\n",
              "    .dataframe thead th {\n",
              "        text-align: right;\n",
              "    }\n",
              "</style>\n",
              "<table border=\"1\" class=\"dataframe\">\n",
              "  <thead>\n",
              "    <tr style=\"text-align: right;\">\n",
              "      <th></th>\n",
              "      <th>Age</th>\n",
              "      <th>Duration</th>\n",
              "      <th>Spouse - Salary</th>\n",
              "      <th>House Loan</th>\n",
              "      <th>Rent  amount</th>\n",
              "      <th>Salary</th>\n",
              "      <th>Credit amount</th>\n",
              "      <th>Target</th>\n",
              "      <th>Sex</th>\n",
              "      <th>Housing</th>\n",
              "      <th>Saving accounts</th>\n",
              "      <th>Job</th>\n",
              "      <th>Marital status</th>\n",
              "      <th>Sector</th>\n",
              "    </tr>\n",
              "  </thead>\n",
              "  <tbody>\n",
              "    <tr>\n",
              "      <th>0</th>\n",
              "      <td>67</td>\n",
              "      <td>6</td>\n",
              "      <td>156646.4</td>\n",
              "      <td>406597.5</td>\n",
              "      <td>0.0</td>\n",
              "      <td>101348.88</td>\n",
              "      <td>1196000</td>\n",
              "      <td>0</td>\n",
              "      <td>0.0</td>\n",
              "      <td>2.0</td>\n",
              "      <td>0.0</td>\n",
              "      <td>8.0</td>\n",
              "      <td>2.0</td>\n",
              "      <td>2.0</td>\n",
              "    </tr>\n",
              "    <tr>\n",
              "      <th>1</th>\n",
              "      <td>22</td>\n",
              "      <td>48</td>\n",
              "      <td>0.0</td>\n",
              "      <td>1293502.5</td>\n",
              "      <td>0.0</td>\n",
              "      <td>112542.58</td>\n",
              "      <td>5951000</td>\n",
              "      <td>0</td>\n",
              "      <td>1.0</td>\n",
              "      <td>2.0</td>\n",
              "      <td>1.0</td>\n",
              "      <td>5.0</td>\n",
              "      <td>0.0</td>\n",
              "      <td>2.0</td>\n",
              "    </tr>\n",
              "    <tr>\n",
              "      <th>2</th>\n",
              "      <td>49</td>\n",
              "      <td>12</td>\n",
              "      <td>127397.4</td>\n",
              "      <td>135000.0</td>\n",
              "      <td>0.0</td>\n",
              "      <td>113931.57</td>\n",
              "      <td>2029000</td>\n",
              "      <td>1</td>\n",
              "      <td>0.0</td>\n",
              "      <td>2.0</td>\n",
              "      <td>1.0</td>\n",
              "      <td>2.0</td>\n",
              "      <td>2.0</td>\n",
              "      <td>1.0</td>\n",
              "    </tr>\n",
              "    <tr>\n",
              "      <th>3</th>\n",
              "      <td>45</td>\n",
              "      <td>42</td>\n",
              "      <td>145672.3</td>\n",
              "      <td>312682.5</td>\n",
              "      <td>0.0</td>\n",
              "      <td>93826.63</td>\n",
              "      <td>7882000</td>\n",
              "      <td>1</td>\n",
              "      <td>0.0</td>\n",
              "      <td>1.0</td>\n",
              "      <td>1.0</td>\n",
              "      <td>6.0</td>\n",
              "      <td>2.0</td>\n",
              "      <td>2.0</td>\n",
              "    </tr>\n",
              "    <tr>\n",
              "      <th>4</th>\n",
              "      <td>53</td>\n",
              "      <td>24</td>\n",
              "      <td>0.0</td>\n",
              "      <td>513000.0</td>\n",
              "      <td>0.0</td>\n",
              "      <td>79084.10</td>\n",
              "      <td>4870000</td>\n",
              "      <td>1</td>\n",
              "      <td>0.0</td>\n",
              "      <td>1.0</td>\n",
              "      <td>1.0</td>\n",
              "      <td>7.0</td>\n",
              "      <td>0.0</td>\n",
              "      <td>1.0</td>\n",
              "    </tr>\n",
              "    <tr>\n",
              "      <th>...</th>\n",
              "      <td>...</td>\n",
              "      <td>...</td>\n",
              "      <td>...</td>\n",
              "      <td>...</td>\n",
              "      <td>...</td>\n",
              "      <td>...</td>\n",
              "      <td>...</td>\n",
              "      <td>...</td>\n",
              "      <td>...</td>\n",
              "      <td>...</td>\n",
              "      <td>...</td>\n",
              "      <td>...</td>\n",
              "      <td>...</td>\n",
              "      <td>...</td>\n",
              "    </tr>\n",
              "    <tr>\n",
              "      <th>995</th>\n",
              "      <td>31</td>\n",
              "      <td>12</td>\n",
              "      <td>118971.6</td>\n",
              "      <td>495985.5</td>\n",
              "      <td>0.0</td>\n",
              "      <td>83912.24</td>\n",
              "      <td>1736000</td>\n",
              "      <td>1</td>\n",
              "      <td>1.0</td>\n",
              "      <td>2.0</td>\n",
              "      <td>1.0</td>\n",
              "      <td>6.0</td>\n",
              "      <td>2.0</td>\n",
              "      <td>1.0</td>\n",
              "    </tr>\n",
              "    <tr>\n",
              "      <th>996</th>\n",
              "      <td>40</td>\n",
              "      <td>30</td>\n",
              "      <td>128841.6</td>\n",
              "      <td>1113840.0</td>\n",
              "      <td>0.0</td>\n",
              "      <td>78439.73</td>\n",
              "      <td>3857000</td>\n",
              "      <td>0</td>\n",
              "      <td>0.0</td>\n",
              "      <td>2.0</td>\n",
              "      <td>1.0</td>\n",
              "      <td>9.0</td>\n",
              "      <td>2.0</td>\n",
              "      <td>2.0</td>\n",
              "    </tr>\n",
              "    <tr>\n",
              "      <th>997</th>\n",
              "      <td>38</td>\n",
              "      <td>12</td>\n",
              "      <td>127219.7</td>\n",
              "      <td>517536.0</td>\n",
              "      <td>0.0</td>\n",
              "      <td>6776.92</td>\n",
              "      <td>804000</td>\n",
              "      <td>0</td>\n",
              "      <td>0.0</td>\n",
              "      <td>2.0</td>\n",
              "      <td>1.0</td>\n",
              "      <td>6.0</td>\n",
              "      <td>2.0</td>\n",
              "      <td>1.0</td>\n",
              "    </tr>\n",
              "    <tr>\n",
              "      <th>998</th>\n",
              "      <td>23</td>\n",
              "      <td>45</td>\n",
              "      <td>141342.4</td>\n",
              "      <td>1288350.0</td>\n",
              "      <td>0.0</td>\n",
              "      <td>9903.42</td>\n",
              "      <td>1845000</td>\n",
              "      <td>0</td>\n",
              "      <td>0.0</td>\n",
              "      <td>1.0</td>\n",
              "      <td>1.0</td>\n",
              "      <td>4.0</td>\n",
              "      <td>2.0</td>\n",
              "      <td>2.0</td>\n",
              "    </tr>\n",
              "    <tr>\n",
              "      <th>999</th>\n",
              "      <td>27</td>\n",
              "      <td>45</td>\n",
              "      <td>0.0</td>\n",
              "      <td>679500.0</td>\n",
              "      <td>0.0</td>\n",
              "      <td>91561.91</td>\n",
              "      <td>4576000</td>\n",
              "      <td>1</td>\n",
              "      <td>0.0</td>\n",
              "      <td>2.0</td>\n",
              "      <td>2.0</td>\n",
              "      <td>5.0</td>\n",
              "      <td>0.0</td>\n",
              "      <td>1.0</td>\n",
              "    </tr>\n",
              "  </tbody>\n",
              "</table>\n",
              "<p>1000 rows × 14 columns</p>\n",
              "</div>\n",
              "      <button class=\"colab-df-convert\" onclick=\"convertToInteractive('df-9e9fdb75-40fe-4957-9e3d-0865c1f7f3d5')\"\n",
              "              title=\"Convert this dataframe to an interactive table.\"\n",
              "              style=\"display:none;\">\n",
              "        \n",
              "  <svg xmlns=\"http://www.w3.org/2000/svg\" height=\"24px\"viewBox=\"0 0 24 24\"\n",
              "       width=\"24px\">\n",
              "    <path d=\"M0 0h24v24H0V0z\" fill=\"none\"/>\n",
              "    <path d=\"M18.56 5.44l.94 2.06.94-2.06 2.06-.94-2.06-.94-.94-2.06-.94 2.06-2.06.94zm-11 1L8.5 8.5l.94-2.06 2.06-.94-2.06-.94L8.5 2.5l-.94 2.06-2.06.94zm10 10l.94 2.06.94-2.06 2.06-.94-2.06-.94-.94-2.06-.94 2.06-2.06.94z\"/><path d=\"M17.41 7.96l-1.37-1.37c-.4-.4-.92-.59-1.43-.59-.52 0-1.04.2-1.43.59L10.3 9.45l-7.72 7.72c-.78.78-.78 2.05 0 2.83L4 21.41c.39.39.9.59 1.41.59.51 0 1.02-.2 1.41-.59l7.78-7.78 2.81-2.81c.8-.78.8-2.07 0-2.86zM5.41 20L4 18.59l7.72-7.72 1.47 1.35L5.41 20z\"/>\n",
              "  </svg>\n",
              "      </button>\n",
              "      \n",
              "  <style>\n",
              "    .colab-df-container {\n",
              "      display:flex;\n",
              "      flex-wrap:wrap;\n",
              "      gap: 12px;\n",
              "    }\n",
              "\n",
              "    .colab-df-convert {\n",
              "      background-color: #E8F0FE;\n",
              "      border: none;\n",
              "      border-radius: 50%;\n",
              "      cursor: pointer;\n",
              "      display: none;\n",
              "      fill: #1967D2;\n",
              "      height: 32px;\n",
              "      padding: 0 0 0 0;\n",
              "      width: 32px;\n",
              "    }\n",
              "\n",
              "    .colab-df-convert:hover {\n",
              "      background-color: #E2EBFA;\n",
              "      box-shadow: 0px 1px 2px rgba(60, 64, 67, 0.3), 0px 1px 3px 1px rgba(60, 64, 67, 0.15);\n",
              "      fill: #174EA6;\n",
              "    }\n",
              "\n",
              "    [theme=dark] .colab-df-convert {\n",
              "      background-color: #3B4455;\n",
              "      fill: #D2E3FC;\n",
              "    }\n",
              "\n",
              "    [theme=dark] .colab-df-convert:hover {\n",
              "      background-color: #434B5C;\n",
              "      box-shadow: 0px 1px 3px 1px rgba(0, 0, 0, 0.15);\n",
              "      filter: drop-shadow(0px 1px 2px rgba(0, 0, 0, 0.3));\n",
              "      fill: #FFFFFF;\n",
              "    }\n",
              "  </style>\n",
              "\n",
              "      <script>\n",
              "        const buttonEl =\n",
              "          document.querySelector('#df-9e9fdb75-40fe-4957-9e3d-0865c1f7f3d5 button.colab-df-convert');\n",
              "        buttonEl.style.display =\n",
              "          google.colab.kernel.accessAllowed ? 'block' : 'none';\n",
              "\n",
              "        async function convertToInteractive(key) {\n",
              "          const element = document.querySelector('#df-9e9fdb75-40fe-4957-9e3d-0865c1f7f3d5');\n",
              "          const dataTable =\n",
              "            await google.colab.kernel.invokeFunction('convertToInteractive',\n",
              "                                                     [key], {});\n",
              "          if (!dataTable) return;\n",
              "\n",
              "          const docLinkHtml = 'Like what you see? Visit the ' +\n",
              "            '<a target=\"_blank\" href=https://colab.research.google.com/notebooks/data_table.ipynb>data table notebook</a>'\n",
              "            + ' to learn more about interactive tables.';\n",
              "          element.innerHTML = '';\n",
              "          dataTable['output_type'] = 'display_data';\n",
              "          await google.colab.output.renderOutput(dataTable, element);\n",
              "          const docLink = document.createElement('div');\n",
              "          docLink.innerHTML = docLinkHtml;\n",
              "          element.appendChild(docLink);\n",
              "        }\n",
              "      </script>\n",
              "    </div>\n",
              "  </div>\n",
              "  "
            ]
          },
          "metadata": {},
          "execution_count": 17
        }
      ]
    },
    {
      "cell_type": "code",
      "source": [
        "print(num.isnull().sum())"
      ],
      "metadata": {
        "colab": {
          "base_uri": "https://localhost:8080/"
        },
        "id": "wh_jp31coRJg",
        "outputId": "f9363992-7706-4469-db8f-9412e4b51e84"
      },
      "execution_count": null,
      "outputs": [
        {
          "output_type": "stream",
          "name": "stdout",
          "text": [
            "Age                0\n",
            "Duration           0\n",
            "Spouse - Salary    0\n",
            "House Loan         0\n",
            "Rent  amount       0\n",
            "Salary             0\n",
            "Credit amount      0\n",
            "Target             0\n",
            "dtype: int64\n"
          ]
        }
      ]
    },
    {
      "cell_type": "code",
      "source": [
        "for column_name in df1.columns:\n",
        "    column = df[column_name]\n",
        "    # Get the count of Zeros in column\n",
        "    count = (column == 0).sum()\n",
        "    print('Count of zeros in column ', column_name, ' is : ', count)"
      ],
      "metadata": {
        "colab": {
          "base_uri": "https://localhost:8080/"
        },
        "id": "kR_04hakD3kM",
        "outputId": "41e255e1-2d36-4c98-ce98-bf64fb2253f9"
      },
      "execution_count": null,
      "outputs": [
        {
          "output_type": "stream",
          "name": "stdout",
          "text": [
            "Count of zeros in column  Age  is :  0\n",
            "Count of zeros in column  Duration  is :  0\n",
            "Count of zeros in column  Spouse - Salary  is :  363\n",
            "Count of zeros in column  House Loan  is :  179\n",
            "Count of zeros in column  Rent  amount  is :  821\n",
            "Count of zeros in column  Salary  is :  0\n",
            "Count of zeros in column  Credit amount  is :  0\n",
            "Count of zeros in column  Target  is :  257\n",
            "Count of zeros in column  Sex  is :  0\n",
            "Count of zeros in column  Housing  is :  0\n",
            "Count of zeros in column  Saving accounts  is :  0\n",
            "Count of zeros in column  Job  is :  0\n",
            "Count of zeros in column  Marital status  is :  0\n",
            "Count of zeros in column  Sector  is :  0\n"
          ]
        }
      ]
    },
    {
      "cell_type": "code",
      "source": [
        "# Visualizing a Pandas Correlation Matrix Using Seaborn\n",
        "import pandas as pd\n",
        "import seaborn as sns\n",
        "import matplotlib.pyplot as plt\n",
        "\n",
        "matrix = df1.corr().round(2)\n",
        "sns.heatmap(matrix, annot=True)\n",
        "plt.show()"
      ],
      "metadata": {
        "colab": {
          "base_uri": "https://localhost:8080/",
          "height": 535
        },
        "id": "F5YrjARKIOIw",
        "outputId": "510b0a0b-4e08-4a22-f723-816eec9c53b2"
      },
      "execution_count": null,
      "outputs": [
        {
          "output_type": "display_data",
          "data": {
            "text/plain": [
              "<Figure size 640x480 with 2 Axes>"
            ],
            "image/png": "[encoded data removed]"
          },
          "metadata": {}
        }
      ]
    },
    {
      "cell_type": "code",
      "source": [
        "df1.drop(['Spouse - Salary','Rent  amount'], inplace=True, axis=1)"
      ],
      "metadata": {
        "id": "srpAHt3IFRbK"
      },
      "execution_count": null,
      "outputs": []
    },
    {
      "cell_type": "code",
      "source": [
        "df1"
      ],
      "metadata": {
        "colab": {
          "base_uri": "https://localhost:8080/",
          "height": 424
        },
        "id": "2bv4XF41GxMw",
        "outputId": "1c660bc6-9dbe-4f2f-c26c-b966bd56bba8"
      },
      "execution_count": null,
      "outputs": [
        {
          "output_type": "execute_result",
          "data": {
            "text/plain": [
              "     Age  Duration  House Loan     Salary  Credit amount  Target  Sex  \\\n",
              "0     67         6    406597.5  101348.88        1196000       0  0.0   \n",
              "1     22        48   1293502.5  112542.58        5951000       0  1.0   \n",
              "2     49        12    135000.0  113931.57        2029000       1  0.0   \n",
              "3     45        42    312682.5   93826.63        7882000       1  0.0   \n",
              "4     53        24    513000.0   79084.10        4870000       1  0.0   \n",
              "..   ...       ...         ...        ...            ...     ...  ...   \n",
              "995   31        12    495985.5   83912.24        1736000       1  1.0   \n",
              "996   40        30   1113840.0   78439.73        3857000       0  0.0   \n",
              "997   38        12    517536.0    6776.92         804000       0  0.0   \n",
              "998   23        45   1288350.0    9903.42        1845000       0  0.0   \n",
              "999   27        45    679500.0   91561.91        4576000       1  0.0   \n",
              "\n",
              "     Housing  Saving accounts  Job  Marital status  Sector  \n",
              "0        2.0              0.0  8.0             2.0     2.0  \n",
              "1        2.0              1.0  5.0             0.0     2.0  \n",
              "2        2.0              1.0  2.0             2.0     1.0  \n",
              "3        1.0              1.0  6.0             2.0     2.0  \n",
              "4        1.0              1.0  7.0             0.0     1.0  \n",
              "..       ...              ...  ...             ...     ...  \n",
              "995      2.0              1.0  6.0             2.0     1.0  \n",
              "996      2.0              1.0  9.0             2.0     2.0  \n",
              "997      2.0              1.0  6.0             2.0     1.0  \n",
              "998      1.0              1.0  4.0             2.0     2.0  \n",
              "999      2.0              2.0  5.0             0.0     1.0  \n",
              "\n",
              "[1000 rows x 12 columns]"
            ],
            "text/html": [
              "\n",
              "  <div id=\"df-13be5466-1e24-4f75-b4a4-5d225a6e710f\">\n",
              "    <div class=\"colab-df-container\">\n",
              "      <div>\n",
              "<style scoped>\n",
              "    .dataframe tbody tr th:only-of-type {\n",
              "        vertical-align: middle;\n",
              "    }\n",
              "\n",
              "    .dataframe tbody tr th {\n",
              "        vertical-align: top;\n",
              "    }\n",
              "\n",
              "    .dataframe thead th {\n",
              "        text-align: right;\n",
              "    }\n",
              "</style>\n",
              "<table border=\"1\" class=\"dataframe\">\n",
              "  <thead>\n",
              "    <tr style=\"text-align: right;\">\n",
              "      <th></th>\n",
              "      <th>Age</th>\n",
              "      <th>Duration</th>\n",
              "      <th>House Loan</th>\n",
              "      <th>Salary</th>\n",
              "      <th>Credit amount</th>\n",
              "      <th>Target</th>\n",
              "      <th>Sex</th>\n",
              "      <th>Housing</th>\n",
              "      <th>Saving accounts</th>\n",
              "      <th>Job</th>\n",
              "      <th>Marital status</th>\n",
              "      <th>Sector</th>\n",
              "    </tr>\n",
              "  </thead>\n",
              "  <tbody>\n",
              "    <tr>\n",
              "      <th>0</th>\n",
              "      <td>67</td>\n",
              "      <td>6</td>\n",
              "      <td>406597.5</td>\n",
              "      <td>101348.88</td>\n",
              "      <td>1196000</td>\n",
              "      <td>0</td>\n",
              "      <td>0.0</td>\n",
              "      <td>2.0</td>\n",
              "      <td>0.0</td>\n",
              "      <td>8.0</td>\n",
              "      <td>2.0</td>\n",
              "      <td>2.0</td>\n",
              "    </tr>\n",
              "    <tr>\n",
              "      <th>1</th>\n",
              "      <td>22</td>\n",
              "      <td>48</td>\n",
              "      <td>1293502.5</td>\n",
              "      <td>112542.58</td>\n",
              "      <td>5951000</td>\n",
              "      <td>0</td>\n",
              "      <td>1.0</td>\n",
              "      <td>2.0</td>\n",
              "      <td>1.0</td>\n",
              "      <td>5.0</td>\n",
              "      <td>0.0</td>\n",
              "      <td>2.0</td>\n",
              "    </tr>\n",
              "    <tr>\n",
              "      <th>2</th>\n",
              "      <td>49</td>\n",
              "      <td>12</td>\n",
              "      <td>135000.0</td>\n",
              "      <td>113931.57</td>\n",
              "      <td>2029000</td>\n",
              "      <td>1</td>\n",
              "      <td>0.0</td>\n",
              "      <td>2.0</td>\n",
              "      <td>1.0</td>\n",
              "      <td>2.0</td>\n",
              "      <td>2.0</td>\n",
              "      <td>1.0</td>\n",
              "    </tr>\n",
              "    <tr>\n",
              "      <th>3</th>\n",
              "      <td>45</td>\n",
              "      <td>42</td>\n",
              "      <td>312682.5</td>\n",
              "      <td>93826.63</td>\n",
              "      <td>7882000</td>\n",
              "      <td>1</td>\n",
              "      <td>0.0</td>\n",
              "      <td>1.0</td>\n",
              "      <td>1.0</td>\n",
              "      <td>6.0</td>\n",
              "      <td>2.0</td>\n",
              "      <td>2.0</td>\n",
              "    </tr>\n",
              "    <tr>\n",
              "      <th>4</th>\n",
              "      <td>53</td>\n",
              "      <td>24</td>\n",
              "      <td>513000.0</td>\n",
              "      <td>79084.10</td>\n",
              "      <td>4870000</td>\n",
              "      <td>1</td>\n",
              "      <td>0.0</td>\n",
              "      <td>1.0</td>\n",
              "      <td>1.0</td>\n",
              "      <td>7.0</td>\n",
              "      <td>0.0</td>\n",
              "      <td>1.0</td>\n",
              "    </tr>\n",
              "    <tr>\n",
              "      <th>...</th>\n",
              "      <td>...</td>\n",
              "      <td>...</td>\n",
              "      <td>...</td>\n",
              "      <td>...</td>\n",
              "      <td>...</td>\n",
              "      <td>...</td>\n",
              "      <td>...</td>\n",
              "      <td>...</td>\n",
              "      <td>...</td>\n",
              "      <td>...</td>\n",
              "      <td>...</td>\n",
              "      <td>...</td>\n",
              "    </tr>\n",
              "    <tr>\n",
              "      <th>995</th>\n",
              "      <td>31</td>\n",
              "      <td>12</td>\n",
              "      <td>495985.5</td>\n",
              "      <td>83912.24</td>\n",
              "      <td>1736000</td>\n",
              "      <td>1</td>\n",
              "      <td>1.0</td>\n",
              "      <td>2.0</td>\n",
              "      <td>1.0</td>\n",
              "      <td>6.0</td>\n",
              "      <td>2.0</td>\n",
              "      <td>1.0</td>\n",
              "    </tr>\n",
              "    <tr>\n",
              "      <th>996</th>\n",
              "      <td>40</td>\n",
              "      <td>30</td>\n",
              "      <td>1113840.0</td>\n",
              "      <td>78439.73</td>\n",
              "      <td>3857000</td>\n",
              "      <td>0</td>\n",
              "      <td>0.0</td>\n",
              "      <td>2.0</td>\n",
              "      <td>1.0</td>\n",
              "      <td>9.0</td>\n",
              "      <td>2.0</td>\n",
              "      <td>2.0</td>\n",
              "    </tr>\n",
              "    <tr>\n",
              "      <th>997</th>\n",
              "      <td>38</td>\n",
              "      <td>12</td>\n",
              "      <td>517536.0</td>\n",
              "      <td>6776.92</td>\n",
              "      <td>804000</td>\n",
              "      <td>0</td>\n",
              "      <td>0.0</td>\n",
              "      <td>2.0</td>\n",
              "      <td>1.0</td>\n",
              "      <td>6.0</td>\n",
              "      <td>2.0</td>\n",
              "      <td>1.0</td>\n",
              "    </tr>\n",
              "    <tr>\n",
              "      <th>998</th>\n",
              "      <td>23</td>\n",
              "      <td>45</td>\n",
              "      <td>1288350.0</td>\n",
              "      <td>9903.42</td>\n",
              "      <td>1845000</td>\n",
              "      <td>0</td>\n",
              "      <td>0.0</td>\n",
              "      <td>1.0</td>\n",
              "      <td>1.0</td>\n",
              "      <td>4.0</td>\n",
              "      <td>2.0</td>\n",
              "      <td>2.0</td>\n",
              "    </tr>\n",
              "    <tr>\n",
              "      <th>999</th>\n",
              "      <td>27</td>\n",
              "      <td>45</td>\n",
              "      <td>679500.0</td>\n",
              "      <td>91561.91</td>\n",
              "      <td>4576000</td>\n",
              "      <td>1</td>\n",
              "      <td>0.0</td>\n",
              "      <td>2.0</td>\n",
              "      <td>2.0</td>\n",
              "      <td>5.0</td>\n",
              "      <td>0.0</td>\n",
              "      <td>1.0</td>\n",
              "    </tr>\n",
              "  </tbody>\n",
              "</table>\n",
              "<p>1000 rows × 12 columns</p>\n",
              "</div>\n",
              "      <button class=\"colab-df-convert\" onclick=\"convertToInteractive('df-13be5466-1e24-4f75-b4a4-5d225a6e710f')\"\n",
              "              title=\"Convert this dataframe to an interactive table.\"\n",
              "              style=\"display:none;\">\n",
              "        \n",
              "  <svg xmlns=\"http://www.w3.org/2000/svg\" height=\"24px\"viewBox=\"0 0 24 24\"\n",
              "       width=\"24px\">\n",
              "    <path d=\"M0 0h24v24H0V0z\" fill=\"none\"/>\n",
              "    <path d=\"M18.56 5.44l.94 2.06.94-2.06 2.06-.94-2.06-.94-.94-2.06-.94 2.06-2.06.94zm-11 1L8.5 8.5l.94-2.06 2.06-.94-2.06-.94L8.5 2.5l-.94 2.06-2.06.94zm10 10l.94 2.06.94-2.06 2.06-.94-2.06-.94-.94-2.06-.94 2.06-2.06.94z\"/><path d=\"M17.41 7.96l-1.37-1.37c-.4-.4-.92-.59-1.43-.59-.52 0-1.04.2-1.43.59L10.3 9.45l-7.72 7.72c-.78.78-.78 2.05 0 2.83L4 21.41c.39.39.9.59 1.41.59.51 0 1.02-.2 1.41-.59l7.78-7.78 2.81-2.81c.8-.78.8-2.07 0-2.86zM5.41 20L4 18.59l7.72-7.72 1.47 1.35L5.41 20z\"/>\n",
              "  </svg>\n",
              "      </button>\n",
              "      \n",
              "  <style>\n",
              "    .colab-df-container {\n",
              "      display:flex;\n",
              "      flex-wrap:wrap;\n",
              "      gap: 12px;\n",
              "    }\n",
              "\n",
              "    .colab-df-convert {\n",
              "      background-color: #E8F0FE;\n",
              "      border: none;\n",
              "      border-radius: 50%;\n",
              "      cursor: pointer;\n",
              "      display: none;\n",
              "      fill: #1967D2;\n",
              "      height: 32px;\n",
              "      padding: 0 0 0 0;\n",
              "      width: 32px;\n",
              "    }\n",
              "\n",
              "    .colab-df-convert:hover {\n",
              "      background-color: #E2EBFA;\n",
              "      box-shadow: 0px 1px 2px rgba(60, 64, 67, 0.3), 0px 1px 3px 1px rgba(60, 64, 67, 0.15);\n",
              "      fill: #174EA6;\n",
              "    }\n",
              "\n",
              "    [theme=dark] .colab-df-convert {\n",
              "      background-color: #3B4455;\n",
              "      fill: #D2E3FC;\n",
              "    }\n",
              "\n",
              "    [theme=dark] .colab-df-convert:hover {\n",
              "      background-color: #434B5C;\n",
              "      box-shadow: 0px 1px 3px 1px rgba(0, 0, 0, 0.15);\n",
              "      filter: drop-shadow(0px 1px 2px rgba(0, 0, 0, 0.3));\n",
              "      fill: #FFFFFF;\n",
              "    }\n",
              "  </style>\n",
              "\n",
              "      <script>\n",
              "        const buttonEl =\n",
              "          document.querySelector('#df-13be5466-1e24-4f75-b4a4-5d225a6e710f button.colab-df-convert');\n",
              "        buttonEl.style.display =\n",
              "          google.colab.kernel.accessAllowed ? 'block' : 'none';\n",
              "\n",
              "        async function convertToInteractive(key) {\n",
              "          const element = document.querySelector('#df-13be5466-1e24-4f75-b4a4-5d225a6e710f');\n",
              "          const dataTable =\n",
              "            await google.colab.kernel.invokeFunction('convertToInteractive',\n",
              "                                                     [key], {});\n",
              "          if (!dataTable) return;\n",
              "\n",
              "          const docLinkHtml = 'Like what you see? Visit the ' +\n",
              "            '<a target=\"_blank\" href=https://colab.research.google.com/notebooks/data_table.ipynb>data table notebook</a>'\n",
              "            + ' to learn more about interactive tables.';\n",
              "          element.innerHTML = '';\n",
              "          dataTable['output_type'] = 'display_data';\n",
              "          await google.colab.output.renderOutput(dataTable, element);\n",
              "          const docLink = document.createElement('div');\n",
              "          docLink.innerHTML = docLinkHtml;\n",
              "          element.appendChild(docLink);\n",
              "        }\n",
              "      </script>\n",
              "    </div>\n",
              "  </div>\n",
              "  "
            ]
          },
          "metadata": {},
          "execution_count": 20
        }
      ]
    },
    {
      "cell_type": "code",
      "source": [
        "# Correlation between all the columns of DataFrame.\n",
        "df2=df1.corr()\n",
        "print(df2)"
      ],
      "metadata": {
        "colab": {
          "base_uri": "https://localhost:8080/"
        },
        "id": "IRr1rjOeHX6y",
        "outputId": "14ff8bd5-b4a6-4b9a-8e35-fb0eda898925"
      },
      "execution_count": null,
      "outputs": [
        {
          "output_type": "stream",
          "name": "stdout",
          "text": [
            "                      Age  Duration  House Loan    Salary  Credit amount  \\\n",
            "Age              1.000000 -0.036136    0.139389 -0.027713       0.032715   \n",
            "Duration        -0.036136  1.000000    0.051266 -0.013107       0.624988   \n",
            "House Loan       0.139389  0.051266    1.000000 -0.017292      -0.003005   \n",
            "Salary          -0.027713 -0.013107   -0.017292  1.000000       0.001444   \n",
            "Credit amount    0.032715  0.624988   -0.003005  0.001444       1.000000   \n",
            "Target          -0.028114  0.021089    0.026496  0.017500       0.031786   \n",
            "Sex             -0.161694 -0.081432   -0.093716 -0.028528      -0.093473   \n",
            "Housing          0.108437 -0.011950    0.503312  0.003511      -0.056127   \n",
            "Saving accounts -0.017997 -0.064526   -0.017932 -0.001878      -0.107545   \n",
            "Job              0.048850  0.029723   -0.001766  0.026119       0.037860   \n",
            "Marital status  -0.037318 -0.018827   -0.062621 -0.026796      -0.019335   \n",
            "Sector           0.017766  0.022468    0.043757 -0.022242       0.012448   \n",
            "\n",
            "                   Target       Sex   Housing  Saving accounts       Job  \\\n",
            "Age             -0.028114 -0.161694  0.108437        -0.017997  0.048850   \n",
            "Duration         0.021089 -0.081432 -0.011950        -0.064526  0.029723   \n",
            "House Loan       0.026496 -0.093716  0.503312        -0.017932 -0.001766   \n",
            "Salary           0.017500 -0.028528  0.003511        -0.001878  0.026119   \n",
            "Credit amount    0.031786 -0.093473 -0.056127        -0.107545  0.037860   \n",
            "Target           1.000000  0.008263  0.050639        -0.028819 -0.038873   \n",
            "Sex              0.008263  1.000000 -0.179137         0.029310 -0.022339   \n",
            "Housing          0.050639 -0.179137  1.000000        -0.003268  0.018313   \n",
            "Saving accounts -0.028819  0.029310 -0.003268         1.000000  0.019911   \n",
            "Job             -0.038873 -0.022339  0.018313         0.019911  1.000000   \n",
            "Marital status  -0.038295 -0.016403 -0.042988        -0.009052 -0.111300   \n",
            "Sector          -0.045325 -0.015294  0.038364        -0.042240  0.139726   \n",
            "\n",
            "                 Marital status    Sector  \n",
            "Age                   -0.037318  0.017766  \n",
            "Duration              -0.018827  0.022468  \n",
            "House Loan            -0.062621  0.043757  \n",
            "Salary                -0.026796 -0.022242  \n",
            "Credit amount         -0.019335  0.012448  \n",
            "Target                -0.038295 -0.045325  \n",
            "Sex                   -0.016403 -0.015294  \n",
            "Housing               -0.042988  0.038364  \n",
            "Saving accounts       -0.009052 -0.042240  \n",
            "Job                   -0.111300  0.139726  \n",
            "Marital status         1.000000 -0.001088  \n",
            "Sector                -0.001088  1.000000  \n"
          ]
        }
      ]
    },
    {
      "cell_type": "code",
      "source": [
        "df1.columns"
      ],
      "metadata": {
        "colab": {
          "base_uri": "https://localhost:8080/"
        },
        "id": "7WC5WvZPc4ax",
        "outputId": "614c06d6-0446-4fd6-ee8e-6d5bdb60eada"
      },
      "execution_count": null,
      "outputs": [
        {
          "output_type": "execute_result",
          "data": {
            "text/plain": [
              "Index(['Age', 'Duration', 'House Loan', 'Salary', 'Credit amount', 'Target',\n",
              "       'Sex', 'Housing', 'Saving accounts', 'Job', 'Marital status', 'Sector'],\n",
              "      dtype='object')"
            ]
          },
          "metadata": {},
          "execution_count": 24
        }
      ]
    },
    {
      "cell_type": "markdown",
      "source": [
        "**PCA**"
      ],
      "metadata": {
        "id": "jZ-ERBYdsbqW"
      }
    },
    {
      "cell_type": "code",
      "source": [
        "df2 = df1.drop('Target',axis=1)"
      ],
      "metadata": {
        "id": "9WqUvJrWsaTV"
      },
      "execution_count": null,
      "outputs": []
    },
    {
      "cell_type": "code",
      "source": [
        "from sklearn.preprocessing import StandardScaler\n",
        "scaler = StandardScaler()\n",
        "scaled_df = scaler.fit_transform(df2)\n",
        "scaled_df"
      ],
      "metadata": {
        "colab": {
          "base_uri": "https://localhost:8080/"
        },
        "id": "zd1QVhdHst2j",
        "outputId": "3cb036b3-ebab-47af-c8b5-f4ba3ce9c532"
      },
      "execution_count": null,
      "outputs": [
        {
          "output_type": "execute_result",
          "data": {
            "text/plain": [
              "array([[ 2.76645648, -1.23647786, -0.18707566, ...,  0.79672228,\n",
              "         0.70537963,  0.98735146],\n",
              "       [-1.19140394,  2.24819436,  1.94096036, ..., -0.50724217,\n",
              "        -1.71444758,  0.98735146],\n",
              "       [ 1.18331231, -0.73866754, -0.83874552, ..., -1.81120663,\n",
              "         0.70537963, -0.85472216],\n",
              "       ...,\n",
              "       [ 0.21583532, -0.73866754,  0.0791097 , ..., -0.07258735,\n",
              "         0.70537963, -0.85472216],\n",
              "       [-1.10345149,  1.9992892 ,  1.92859747, ..., -0.94189699,\n",
              "         0.70537963,  0.98735146],\n",
              "       [-0.75164167,  1.9992892 ,  0.46772542, ..., -0.50724217,\n",
              "        -1.71444758, -0.85472216]])"
            ]
          },
          "metadata": {},
          "execution_count": 78
        }
      ]
    },
    {
      "cell_type": "code",
      "source": [
        "scaled_df.mean(axis=0)"
      ],
      "metadata": {
        "colab": {
          "base_uri": "https://localhost:8080/"
        },
        "id": "a-1G59ufsZa3",
        "outputId": "374296b4-3355-4d3e-8985-80d79f49501d"
      },
      "execution_count": null,
      "outputs": [
        {
          "output_type": "execute_result",
          "data": {
            "text/plain": [
              "array([ 5.32907052e-17,  1.13686838e-16, -3.99680289e-18,  6.39488462e-17,\n",
              "       -4.44089210e-18, -6.57252031e-17,  2.66453526e-17,  6.39488462e-17,\n",
              "        9.59232693e-17, -8.17124146e-17,  5.68434189e-17])"
            ]
          },
          "metadata": {},
          "execution_count": 79
        }
      ]
    },
    {
      "cell_type": "code",
      "source": [
        "scaled_df -= scaled_df.mean(axis=0)\n",
        "scaled_df"
      ],
      "metadata": {
        "colab": {
          "base_uri": "https://localhost:8080/"
        },
        "id": "ga-jFGQte5xy",
        "outputId": "b7685f40-56b4-40e3-de3c-50ae72850130"
      },
      "execution_count": null,
      "outputs": [
        {
          "output_type": "execute_result",
          "data": {
            "text/plain": [
              "array([[ 2.76645648, -1.23647786, -0.18707566, ...,  0.79672228,\n",
              "         0.70537963,  0.98735146],\n",
              "       [-1.19140394,  2.24819436,  1.94096036, ..., -0.50724217,\n",
              "        -1.71444758,  0.98735146],\n",
              "       [ 1.18331231, -0.73866754, -0.83874552, ..., -1.81120663,\n",
              "         0.70537963, -0.85472216],\n",
              "       ...,\n",
              "       [ 0.21583532, -0.73866754,  0.0791097 , ..., -0.07258735,\n",
              "         0.70537963, -0.85472216],\n",
              "       [-1.10345149,  1.9992892 ,  1.92859747, ..., -0.94189699,\n",
              "         0.70537963,  0.98735146],\n",
              "       [-0.75164167,  1.9992892 ,  0.46772542, ..., -0.50724217,\n",
              "        -1.71444758, -0.85472216]])"
            ]
          },
          "metadata": {},
          "execution_count": 81
        }
      ]
    },
    {
      "cell_type": "code",
      "source": [
        "# Grab Covariance Matrix\n",
        "covariance_matrix = np.cov(scaled_df, rowvar=False)\n"
      ],
      "metadata": {
        "id": "emnQOaggfCtD"
      },
      "execution_count": null,
      "outputs": []
    },
    {
      "cell_type": "code",
      "source": [
        "# Get Eigen Vectors and Eigen Values\n",
        "eigen_values, eigen_vectors = np.linalg.eig(covariance_matrix)"
      ],
      "metadata": {
        "id": "uiPcG5gCfIol"
      },
      "execution_count": null,
      "outputs": []
    },
    {
      "cell_type": "code",
      "source": [
        "# Choose som number of components\n",
        "num_components=2"
      ],
      "metadata": {
        "id": "PyPm4KrffQul"
      },
      "execution_count": null,
      "outputs": []
    },
    {
      "cell_type": "code",
      "source": [
        "np.argsort(eigen_values)"
      ],
      "metadata": {
        "colab": {
          "base_uri": "https://localhost:8080/"
        },
        "id": "sxHooPBwwIq7",
        "outputId": "c32c2ebf-724d-4ef7-d967-57ff919566b9"
      },
      "execution_count": null,
      "outputs": [
        {
          "output_type": "execute_result",
          "data": {
            "text/plain": [
              "array([ 2,  3, 10,  9,  8,  7,  6,  5,  4,  1,  0])"
            ]
          },
          "metadata": {},
          "execution_count": 85
        }
      ]
    },
    {
      "cell_type": "code",
      "source": [
        "# Get index sorting key based on Eigen Values\n",
        "sorted_key = np.argsort(eigen_values)[::-1][:num_components]\n",
        "sorted_key"
      ],
      "metadata": {
        "colab": {
          "base_uri": "https://localhost:8080/"
        },
        "id": "qUI4al2IfSUq",
        "outputId": "c7fc20c5-a861-42ac-f0aa-e29fbd07606c"
      },
      "execution_count": null,
      "outputs": [
        {
          "output_type": "execute_result",
          "data": {
            "text/plain": [
              "array([0, 1])"
            ]
          },
          "metadata": {},
          "execution_count": 86
        }
      ]
    },
    {
      "cell_type": "code",
      "source": [
        "# Get num_components of Eigen Values and Eigen Vectors\n",
        "eigen_values, eigen_vectors = eigen_values[sorted_key], eigen_vectors[:, sorted_key]"
      ],
      "metadata": {
        "id": "C2YiJ36RfXhJ"
      },
      "execution_count": null,
      "outputs": []
    },
    {
      "cell_type": "code",
      "source": [
        "# Dot product of original data and eigen_vectors are the principal component values\n",
        "# This is the \"projection\" step of the original points on to the Principal Component\n",
        "principal_components=np.dot(scaled_df,eigen_vectors)"
      ],
      "metadata": {
        "id": "nuWveWWkfcBo"
      },
      "execution_count": null,
      "outputs": []
    },
    {
      "cell_type": "code",
      "source": [
        "principal_components"
      ],
      "metadata": {
        "colab": {
          "base_uri": "https://localhost:8080/"
        },
        "id": "XJqxnfWEfhCV",
        "outputId": "82228abb-929d-4a20-82ae-e6b63fe8bbd4"
      },
      "execution_count": null,
      "outputs": [
        {
          "output_type": "execute_result",
          "data": {
            "text/plain": [
              "array([[-0.27706102,  1.76437423],\n",
              "       [-2.10388469, -0.59307063],\n",
              "       [ 0.58206524,  0.70059171],\n",
              "       ...,\n",
              "       [ 0.44574879,  1.13519909],\n",
              "       [-1.21794537, -0.29424967],\n",
              "       [-1.5918565 , -0.50353541]])"
            ]
          },
          "metadata": {},
          "execution_count": 93
        }
      ]
    },
    {
      "cell_type": "code",
      "source": [
        "import seaborn as sns\n",
        "plt.figure(figsize=(8,6))\n",
        "labels = df1['Target'].values\n",
        "# sns.scatterplot(pca_df[:,0],pca_df[:,1],hue=labels,palette='Set1')\n",
        "# plt.legend(loc=(1.05,0))\n",
        "sns.scatterplot(x=principal_components[:,0],y=principal_components[:,1],hue=labels,palette='Set1')\n",
        "plt.xlabel('First principal component')\n",
        "plt.ylabel('Second Principal Component')"
      ],
      "metadata": {
        "colab": {
          "base_uri": "https://localhost:8080/",
          "height": 560
        },
        "id": "7_aejwtRa7os",
        "outputId": "ffc2464c-5358-4ec1-c5e2-8eaef9048f27"
      },
      "execution_count": null,
      "outputs": [
        {
          "output_type": "execute_result",
          "data": {
            "text/plain": [
              "Text(0, 0.5, 'Second Principal Component')"
            ]
          },
          "metadata": {},
          "execution_count": 24
        },
        {
          "output_type": "display_data",
          "data": {
            "text/plain": [
              "<Figure size 800x600 with 1 Axes>"
            ],
            "image/png": "[encoded data removed]"
          },
          "metadata": {}
        }
      ]
    },
    {
      "cell_type": "markdown",
      "source": [
        "**VISUALIZATION**"
      ],
      "metadata": {
        "id": "QPBJ7oqVzPPK"
      }
    },
    {
      "cell_type": "code",
      "source": [
        "import numpy as np\n",
        "import pandas as pd\n",
        "import matplotlib.pyplot as plt\n",
        "from sklearn.linear_model import LinearRegression\n",
        "import seaborn as sns"
      ],
      "metadata": {
        "id": "QGyW67wDXxPy"
      },
      "execution_count": null,
      "outputs": []
    },
    {
      "cell_type": "code",
      "source": [
        "data = pd.read_csv(\"/content/poverty1.csv\")"
      ],
      "metadata": {
        "id": "lfcdX-HMYLvJ"
      },
      "execution_count": null,
      "outputs": []
    },
    {
      "cell_type": "code",
      "source": [
        "data.plot(kind='scatter',x='Duration',y='Credit Amt')\n",
        "plt.show()"
      ],
      "metadata": {
        "colab": {
          "base_uri": "https://localhost:8080/",
          "height": 449
        },
        "id": "E8uDxgM3YUVb",
        "outputId": "c08d1799-2ab0-427c-bd1e-42e5f76dfd9b"
      },
      "execution_count": null,
      "outputs": [
        {
          "output_type": "display_data",
          "data": {
            "text/plain": [
              "<Figure size 640x480 with 1 Axes>"
            ],
            "image/png": "[encoded data removed]"
          },
          "metadata": {}
        }
      ]
    },
    {
      "cell_type": "code",
      "source": [
        "sns.scatterplot(x='Duration',y='Credit Amt',data=data)"
      ],
      "metadata": {
        "colab": {
          "base_uri": "https://localhost:8080/",
          "height": 467
        },
        "id": "WNa54HLuYZ1O",
        "outputId": "a64832dc-6017-4bc8-8e2d-ad0cf28ae69b"
      },
      "execution_count": null,
      "outputs": [
        {
          "output_type": "execute_result",
          "data": {
            "text/plain": [
              "<Axes: xlabel='Duration', ylabel='Credit Amt'>"
            ]
          },
          "metadata": {},
          "execution_count": 6
        },
        {
          "output_type": "display_data",
          "data": {
            "text/plain": [
              "<Figure size 640x480 with 1 Axes>"
            ],
            "image/png": "[encoded data removed]"
          },
          "metadata": {}
        }
      ]
    },
    {
      "cell_type": "code",
      "source": [
        "sns.regplot(x='Duration',y='Credit Amt',data=data)"
      ],
      "metadata": {
        "colab": {
          "base_uri": "https://localhost:8080/",
          "height": 467
        },
        "id": "aOhPvhtZYdpF",
        "outputId": "38ae60d7-e071-4e3b-c22a-5561bca219b7"
      },
      "execution_count": null,
      "outputs": [
        {
          "output_type": "execute_result",
          "data": {
            "text/plain": [
              "<Axes: xlabel='Duration', ylabel='Credit Amt'>"
            ]
          },
          "metadata": {},
          "execution_count": 7
        },
        {
          "output_type": "display_data",
          "data": {
            "text/plain": [
              "<Figure size 640x480 with 1 Axes>"
            ],
            "image/png": "[encoded data removed]"
          },
          "metadata": {}
        }
      ]
    },
    {
      "cell_type": "code",
      "source": [
        "X = data['Duration']\n",
        "y = data['Credit Amt']"
      ],
      "metadata": {
        "id": "eKfbJnQ9Yty_"
      },
      "execution_count": null,
      "outputs": []
    },
    {
      "cell_type": "code",
      "source": [
        "np.polyfit(X,y,1)"
      ],
      "metadata": {
        "colab": {
          "base_uri": "https://localhost:8080/"
        },
        "id": "S2Ns-G5VYv5H",
        "outputId": "f4a3f8d6-d012-4bf5-904b-21d5643e6049"
      },
      "execution_count": null,
      "outputs": [
        {
          "output_type": "execute_result",
          "data": {
            "text/plain": [
              "array([1.37640441, 4.23502353])"
            ]
          },
          "metadata": {},
          "execution_count": 9
        }
      ]
    },
    {
      "cell_type": "code",
      "source": [
        "X = data['Credit Amt'].values.reshape(-1, 1)\n",
        "y = data['Duration'].values\n",
        "\n",
        "# Create an instance of the Linear Regression model\n",
        "model = LinearRegression()\n",
        "\n",
        "# Fit the model to the data\n",
        "model.fit(X, y)\n",
        "\n",
        "# Predict the poverty rate using the trained model\n",
        "y_pred = model.predict(X)\n",
        "\n",
        "# Print the coefficients and the intercept of the model\n",
        "print('Coefficients:', model.coef_)\n",
        "print('Intercept:', model.intercept_)\n",
        "\n",
        "# Plot the actual data and the regression line\n",
        "plt.scatter(X, y, color='blue', label='Actual Data')\n",
        "plt.plot(X, y_pred, color='red', label='Linear Regression')\n",
        "plt.xlabel('Credit Amount (Credit Amt)')\n",
        "plt.ylabel('Duration (Duration)')\n",
        "plt.title('Simple Linear Regression')\n",
        "plt.legend()\n",
        "plt.show()"
      ],
      "metadata": {
        "colab": {
          "base_uri": "https://localhost:8080/",
          "height": 508
        },
        "id": "cr3SFpvpZK65",
        "outputId": "40871ae2-b83a-4dc8-b3ed-ad2afa2de2c2"
      },
      "execution_count": null,
      "outputs": [
        {
          "output_type": "stream",
          "name": "stdout",
          "text": [
            "Coefficients: [0.37818008]\n",
            "Intercept: 4.620976575471079\n"
          ]
        },
        {
          "output_type": "display_data",
          "data": {
            "text/plain": [
              "<Figure size 640x480 with 1 Axes>"
            ],
            "image/png": "[encoded data removed]"
          },
          "metadata": {}
        }
      ]
    },
    {
      "cell_type": "code",
      "source": [
        "df1['Target'].value_counts()"
      ],
      "metadata": {
        "colab": {
          "base_uri": "https://localhost:8080/"
        },
        "id": "v38ueHLzzTJQ",
        "outputId": "d1944aa3-384f-485a-c063-e43553cf892a"
      },
      "execution_count": null,
      "outputs": [
        {
          "output_type": "execute_result",
          "data": {
            "text/plain": [
              "1    743\n",
              "0    257\n",
              "Name: Target, dtype: int64"
            ]
          },
          "metadata": {},
          "execution_count": 37
        }
      ]
    },
    {
      "cell_type": "code",
      "source": [
        "sns.countplot(data=df1,x='Target')"
      ],
      "metadata": {
        "colab": {
          "base_uri": "https://localhost:8080/",
          "height": 467
        },
        "id": "AQEkf9uEzuO0",
        "outputId": "77fc1887-86d1-457a-e267-72f51bd0a781"
      },
      "execution_count": null,
      "outputs": [
        {
          "output_type": "execute_result",
          "data": {
            "text/plain": [
              "<Axes: xlabel='Target', ylabel='count'>"
            ]
          },
          "metadata": {},
          "execution_count": 38
        },
        {
          "output_type": "display_data",
          "data": {
            "text/plain": [
              "<Figure size 640x480 with 1 Axes>"
            ],
            "image/png": "[encoded data removed]"
          },
          "metadata": {}
        }
      ]
    },
    {
      "cell_type": "code",
      "source": [
        "sns.boxplot(x='Target',y='Salary',data=df1)"
      ],
      "metadata": {
        "colab": {
          "base_uri": "https://localhost:8080/",
          "height": 467
        },
        "id": "KVDw13Hyz3af",
        "outputId": "9a984b56-6ba5-4c29-da8f-2b257cdc7f12"
      },
      "execution_count": null,
      "outputs": [
        {
          "output_type": "execute_result",
          "data": {
            "text/plain": [
              "<Axes: xlabel='Target', ylabel='Salary'>"
            ]
          },
          "metadata": {},
          "execution_count": 39
        },
        {
          "output_type": "display_data",
          "data": {
            "text/plain": [
              "<Figure size 640x480 with 1 Axes>"
            ],
            "image/png": "[encoded data removed]"
          },
          "metadata": {}
        }
      ]
    },
    {
      "cell_type": "code",
      "source": [
        "sns.boxplot(x='Target',y='Job',data=df1)"
      ],
      "metadata": {
        "colab": {
          "base_uri": "https://localhost:8080/",
          "height": 467
        },
        "id": "PrUTE8G00NbU",
        "outputId": "979cfb96-01f1-4a84-d29d-82b29e170dff"
      },
      "execution_count": null,
      "outputs": [
        {
          "output_type": "execute_result",
          "data": {
            "text/plain": [
              "<Axes: xlabel='Target', ylabel='Job'>"
            ]
          },
          "metadata": {},
          "execution_count": 40
        },
        {
          "output_type": "display_data",
          "data": {
            "text/plain": [
              "<Figure size 640x480 with 1 Axes>"
            ],
            "image/png": "[encoded data removed]"
          },
          "metadata": {}
        }
      ]
    },
    {
      "cell_type": "code",
      "source": [
        "X = df1.drop('Target',axis=1)\n",
        "y = df1['Target']"
      ],
      "metadata": {
        "id": "odMNIPBZ1t6R"
      },
      "execution_count": null,
      "outputs": []
    },
    {
      "cell_type": "code",
      "source": [
        "from sklearn.model_selection import train_test_split\n",
        "from sklearn.preprocessing import StandardScaler"
      ],
      "metadata": {
        "id": "nQPvCd182GAs"
      },
      "execution_count": null,
      "outputs": []
    },
    {
      "cell_type": "code",
      "source": [
        "X_train, X_test, y_train, y_test = train_test_split(X, y, test_size=0.1, random_state=101,penalty='l2')"
      ],
      "metadata": {
        "id": "r7_9MumD2Krv"
      },
      "execution_count": null,
      "outputs": []
    },
    {
      "cell_type": "code",
      "source": [
        "scaler = StandardScaler()"
      ],
      "metadata": {
        "id": "pXQdjZW02fIA"
      },
      "execution_count": null,
      "outputs": []
    },
    {
      "cell_type": "code",
      "source": [
        "scaled_X_train = scaler.fit_transform(X_train)\n",
        "scaled_X_test = scaler.transform(X_test)"
      ],
      "metadata": {
        "id": "Nyro5Kbr2izR"
      },
      "execution_count": null,
      "outputs": []
    },
    {
      "cell_type": "markdown",
      "source": [
        "**LOGISTIC REGRSSION MODEL**"
      ],
      "metadata": {
        "id": "VkbbVvqQ2nFc"
      }
    },
    {
      "cell_type": "code",
      "source": [
        "from sklearn.linear_model import LogisticRegression"
      ],
      "metadata": {
        "id": "cGmuzjdt2mvt"
      },
      "execution_count": null,
      "outputs": []
    },
    {
      "cell_type": "code",
      "source": [
        "log_model = LogisticRegression()"
      ],
      "metadata": {
        "id": "7a4_HlgH2yl0"
      },
      "execution_count": null,
      "outputs": []
    },
    {
      "cell_type": "code",
      "source": [
        "log_model.fit(scaled_X_train,y_train)"
      ],
      "metadata": {
        "colab": {
          "base_uri": "https://localhost:8080/",
          "height": 74
        },
        "id": "5nIybL9P22Cz",
        "outputId": "3e228c6a-c6fc-4c8b-fcd2-fd13cd1fcfcf"
      },
      "execution_count": null,
      "outputs": [
        {
          "output_type": "execute_result",
          "data": {
            "text/plain": [
              "LogisticRegression()"
            ],
            "text/html": [
              "<style>#sk-container-id-1 {color: black;background-color: white;}#sk-container-id-1 pre{padding: 0;}#sk-container-id-1 div.sk-toggleable {background-color: white;}#sk-container-id-1 label.sk-toggleable__label {cursor: pointer;display: block;width: 100%;margin-bottom: 0;padding: 0.3em;box-sizing: border-box;text-align: center;}#sk-container-id-1 label.sk-toggleable__label-arrow:before {content: \"▸\";float: left;margin-right: 0.25em;color: #696969;}#sk-container-id-1 label.sk-toggleable__label-arrow:hover:before {color: black;}#sk-container-id-1 div.sk-estimator:hover label.sk-toggleable__label-arrow:before {color: black;}#sk-container-id-1 div.sk-toggleable__content {max-height: 0;max-width: 0;overflow: hidden;text-align: left;background-color: #f0f8ff;}#sk-container-id-1 div.sk-toggleable__content pre {margin: 0.2em;color: black;border-radius: 0.25em;background-color: #f0f8ff;}#sk-container-id-1 input.sk-toggleable__control:checked~div.sk-toggleable__content {max-height: 200px;max-width: 100%;overflow: auto;}#sk-container-id-1 input.sk-toggleable__control:checked~label.sk-toggleable__label-arrow:before {content: \"▾\";}#sk-container-id-1 div.sk-estimator input.sk-toggleable__control:checked~label.sk-toggleable__label {background-color: #d4ebff;}#sk-container-id-1 div.sk-label input.sk-toggleable__control:checked~label.sk-toggleable__label {background-color: #d4ebff;}#sk-container-id-1 input.sk-hidden--visually {border: 0;clip: rect(1px 1px 1px 1px);clip: rect(1px, 1px, 1px, 1px);height: 1px;margin: -1px;overflow: hidden;padding: 0;position: absolute;width: 1px;}#sk-container-id-1 div.sk-estimator {font-family: monospace;background-color: #f0f8ff;border: 1px dotted black;border-radius: 0.25em;box-sizing: border-box;margin-bottom: 0.5em;}#sk-container-id-1 div.sk-estimator:hover {background-color: #d4ebff;}#sk-container-id-1 div.sk-parallel-item::after {content: \"\";width: 100%;border-bottom: 1px solid gray;flex-grow: 1;}#sk-container-id-1 div.sk-label:hover label.sk-toggleable__label {background-color: #d4ebff;}#sk-container-id-1 div.sk-serial::before {content: \"\";position: absolute;border-left: 1px solid gray;box-sizing: border-box;top: 0;bottom: 0;left: 50%;z-index: 0;}#sk-container-id-1 div.sk-serial {display: flex;flex-direction: column;align-items: center;background-color: white;padding-right: 0.2em;padding-left: 0.2em;position: relative;}#sk-container-id-1 div.sk-item {position: relative;z-index: 1;}#sk-container-id-1 div.sk-parallel {display: flex;align-items: stretch;justify-content: center;background-color: white;position: relative;}#sk-container-id-1 div.sk-item::before, #sk-container-id-1 div.sk-parallel-item::before {content: \"\";position: absolute;border-left: 1px solid gray;box-sizing: border-box;top: 0;bottom: 0;left: 50%;z-index: -1;}#sk-container-id-1 div.sk-parallel-item {display: flex;flex-direction: column;z-index: 1;position: relative;background-color: white;}#sk-container-id-1 div.sk-parallel-item:first-child::after {align-self: flex-end;width: 50%;}#sk-container-id-1 div.sk-parallel-item:last-child::after {align-self: flex-start;width: 50%;}#sk-container-id-1 div.sk-parallel-item:only-child::after {width: 0;}#sk-container-id-1 div.sk-dashed-wrapped {border: 1px dashed gray;margin: 0 0.4em 0.5em 0.4em;box-sizing: border-box;padding-bottom: 0.4em;background-color: white;}#sk-container-id-1 div.sk-label label {font-family: monospace;font-weight: bold;display: inline-block;line-height: 1.2em;}#sk-container-id-1 div.sk-label-container {text-align: center;}#sk-container-id-1 div.sk-container {/* jupyter's `normalize.less` sets `[hidden] { display: none; }` but bootstrap.min.css set `[hidden] { display: none !important; }` so we also need the `!important` here to be able to override the default hidden behavior on the sphinx rendered scikit-learn.org. See: https://github.com/scikit-learn/scikit-learn/issues/21755 */display: inline-block !important;position: relative;}#sk-container-id-1 div.sk-text-repr-fallback {display: none;}</style><div id=\"sk-container-id-1\" class=\"sk-top-container\"><div class=\"sk-text-repr-fallback\"><pre>LogisticRegression()</pre><b>In a Jupyter environment, please rerun this cell to show the HTML representation or trust the notebook. <br />On GitHub, the HTML representation is unable to render, please try loading this page with nbviewer.org.</b></div><div class=\"sk-container\" hidden><div class=\"sk-item\"><div class=\"sk-estimator sk-toggleable\"><input class=\"sk-toggleable__control sk-hidden--visually\" id=\"sk-estimator-id-1\" type=\"checkbox\" checked><label for=\"sk-estimator-id-1\" class=\"sk-toggleable__label sk-toggleable__label-arrow\">LogisticRegression</label><div class=\"sk-toggleable__content\"><pre>LogisticRegression()</pre></div></div></div></div></div>"
            ]
          },
          "metadata": {},
          "execution_count": 50
        }
      ]
    },
    {
      "cell_type": "code",
      "source": [
        "log_model.coef_"
      ],
      "metadata": {
        "colab": {
          "base_uri": "https://localhost:8080/"
        },
        "id": "5tmJFceS25HA",
        "outputId": "d7bcb370-51d1-41d4-afa1-886fb886c82f"
      },
      "execution_count": null,
      "outputs": [
        {
          "output_type": "execute_result",
          "data": {
            "text/plain": [
              "array([[-0.08721893, -0.04339378,  0.03139308,  0.01046397,  0.10735484,\n",
              "         0.04368172,  0.1206582 , -0.05399584, -0.07615286, -0.08806729,\n",
              "        -0.10524044]])"
            ]
          },
          "metadata": {},
          "execution_count": 51
        }
      ]
    },
    {
      "cell_type": "markdown",
      "source": [
        "This means:\n",
        "* We can expect the **odds** of passing the test to **decrease** (the original coeff was negative)\n",
        "* We can expect the **odds** of passing the test to **increase** (the original coeff was positive)\n",
        "Based on the ratios with each other, the Sex indicator is a stronger predictor"
      ],
      "metadata": {
        "id": "3XWpj1j-3Qb6"
      }
    },
    {
      "cell_type": "code",
      "source": [
        "from sklearn.metrics import accuracy_score\n",
        "from sklearn.metrics import confusion_matrix\n",
        "from sklearn.metrics import classification_report\n",
        "from sklearn.metrics import confusion_matrix"
      ],
      "metadata": {
        "id": "kUQaht_72-g0"
      },
      "execution_count": null,
      "outputs": []
    },
    {
      "cell_type": "code",
      "source": [
        "y_pred = log_model.predict(scaled_X_test)"
      ],
      "metadata": {
        "id": "VOGtnfa_4UYe"
      },
      "execution_count": null,
      "outputs": []
    },
    {
      "cell_type": "code",
      "source": [
        "accuracy_score(y_test,y_pred)"
      ],
      "metadata": {
        "colab": {
          "base_uri": "https://localhost:8080/"
        },
        "id": "EBOBQ_CN4XzM",
        "outputId": "02e6cf81-2fa2-46a3-cfed-acee26e2d7a6"
      },
      "execution_count": null,
      "outputs": [
        {
          "output_type": "execute_result",
          "data": {
            "text/plain": [
              "0.76"
            ]
          },
          "metadata": {},
          "execution_count": 54
        }
      ]
    },
    {
      "cell_type": "code",
      "source": [
        "from sklearn.metrics import classification_report\n",
        "print(classification_report(y_test, y_pred))"
      ],
      "metadata": {
        "colab": {
          "base_uri": "https://localhost:8080/"
        },
        "id": "ZX2N_wbO4gsA",
        "outputId": "ea1e5b97-fa42-4195-ee23-ad4b89b18399"
      },
      "execution_count": null,
      "outputs": [
        {
          "output_type": "stream",
          "name": "stdout",
          "text": [
            "              precision    recall  f1-score   support\n",
            "\n",
            "           0       0.00      0.00      0.00        24\n",
            "           1       0.76      1.00      0.86        76\n",
            "\n",
            "    accuracy                           0.76       100\n",
            "   macro avg       0.38      0.50      0.43       100\n",
            "weighted avg       0.58      0.76      0.66       100\n",
            "\n"
          ]
        },
        {
          "output_type": "stream",
          "name": "stderr",
          "text": [
            "/usr/local/lib/python3.10/dist-packages/sklearn/metrics/_classification.py:1344: UndefinedMetricWarning: Precision and F-score are ill-defined and being set to 0.0 in labels with no predicted samples. Use `zero_division` parameter to control this behavior.\n",
            "  _warn_prf(average, modifier, msg_start, len(result))\n",
            "/usr/local/lib/python3.10/dist-packages/sklearn/metrics/_classification.py:1344: UndefinedMetricWarning: Precision and F-score are ill-defined and being set to 0.0 in labels with no predicted samples. Use `zero_division` parameter to control this behavior.\n",
            "  _warn_prf(average, modifier, msg_start, len(result))\n",
            "/usr/local/lib/python3.10/dist-packages/sklearn/metrics/_classification.py:1344: UndefinedMetricWarning: Precision and F-score are ill-defined and being set to 0.0 in labels with no predicted samples. Use `zero_division` parameter to control this behavior.\n",
            "  _warn_prf(average, modifier, msg_start, len(result))\n"
          ]
        }
      ]
    },
    {
      "cell_type": "markdown",
      "source": [
        "# Support Vector Machine"
      ],
      "metadata": {
        "id": "veqdeaLkP-Hb"
      }
    },
    {
      "cell_type": "markdown",
      "source": [
        "Splitting Data"
      ],
      "metadata": {
        "id": "x-WA5lhZSnGq"
      }
    },
    {
      "cell_type": "code",
      "source": [
        "result = df1.head(100)"
      ],
      "metadata": {
        "id": "LITei97NlLq_"
      },
      "execution_count": null,
      "outputs": []
    },
    {
      "cell_type": "code",
      "source": [
        "result"
      ],
      "metadata": {
        "colab": {
          "base_uri": "https://localhost:8080/",
          "height": 423
        },
        "id": "Ah5u_PFslUfH",
        "outputId": "b5bd7be0-f848-4bb5-cf26-50cf35a3841d"
      },
      "execution_count": null,
      "outputs": [
        {
          "output_type": "execute_result",
          "data": {
            "text/plain": [
              "    Age  Duration  House Loan     Salary  Credit amount  Target  Sex  Housing  \\\n",
              "0    67         6    406597.5  101348.88        1196000       0  0.0      2.0   \n",
              "1    22        48   1293502.5  112542.58        5951000       0  1.0      2.0   \n",
              "2    49        12    135000.0  113931.57        2029000       1  0.0      2.0   \n",
              "3    45        42    312682.5   93826.63        7882000       1  0.0      1.0   \n",
              "4    53        24    513000.0   79084.10        4870000       1  0.0      1.0   \n",
              "..  ...       ...         ...        ...            ...     ...  ...      ...   \n",
              "95   58        54         0.0  121277.78       15945000       1  0.0      0.0   \n",
              "96   61        12    284400.0   64595.25        2012000       1  1.0      2.0   \n",
              "97   34        18    315000.0  197276.13        2622000       1  0.0      2.0   \n",
              "98   36        36    900000.0   99645.04        2337000       1  0.0      2.0   \n",
              "99   36        20         0.0    6534.18        7057000       0  0.0      0.0   \n",
              "\n",
              "    Saving accounts   Job  Marital status  Sector  \n",
              "0               0.0   8.0             2.0     2.0  \n",
              "1               1.0   5.0             0.0     2.0  \n",
              "2               1.0   2.0             2.0     1.0  \n",
              "3               1.0   6.0             2.0     2.0  \n",
              "4               1.0   7.0             0.0     1.0  \n",
              "..              ...   ...             ...     ...  \n",
              "95              1.0   8.0             2.0     2.0  \n",
              "96              0.0   6.0             2.0     2.0  \n",
              "97              2.0  10.0             2.0     2.0  \n",
              "98              1.0   5.0             2.0     1.0  \n",
              "99              0.0   8.0             2.0     2.0  \n",
              "\n",
              "[100 rows x 12 columns]"
            ],
            "text/html": [
              "\n",
              "  <div id=\"df-7b05e603-fee3-4c45-8744-36b85c5fb98c\">\n",
              "    <div class=\"colab-df-container\">\n",
              "      <div>\n",
              "<style scoped>\n",
              "    .dataframe tbody tr th:only-of-type {\n",
              "        vertical-align: middle;\n",
              "    }\n",
              "\n",
              "    .dataframe tbody tr th {\n",
              "        vertical-align: top;\n",
              "    }\n",
              "\n",
              "    .dataframe thead th {\n",
              "        text-align: right;\n",
              "    }\n",
              "</style>\n",
              "<table border=\"1\" class=\"dataframe\">\n",
              "  <thead>\n",
              "    <tr style=\"text-align: right;\">\n",
              "      <th></th>\n",
              "      <th>Age</th>\n",
              "      <th>Duration</th>\n",
              "      <th>House Loan</th>\n",
              "      <th>Salary</th>\n",
              "      <th>Credit amount</th>\n",
              "      <th>Target</th>\n",
              "      <th>Sex</th>\n",
              "      <th>Housing</th>\n",
              "      <th>Saving accounts</th>\n",
              "      <th>Job</th>\n",
              "      <th>Marital status</th>\n",
              "      <th>Sector</th>\n",
              "    </tr>\n",
              "  </thead>\n",
              "  <tbody>\n",
              "    <tr>\n",
              "      <th>0</th>\n",
              "      <td>67</td>\n",
              "      <td>6</td>\n",
              "      <td>406597.5</td>\n",
              "      <td>101348.88</td>\n",
              "      <td>1196000</td>\n",
              "      <td>0</td>\n",
              "      <td>0.0</td>\n",
              "      <td>2.0</td>\n",
              "      <td>0.0</td>\n",
              "      <td>8.0</td>\n",
              "      <td>2.0</td>\n",
              "      <td>2.0</td>\n",
              "    </tr>\n",
              "    <tr>\n",
              "      <th>1</th>\n",
              "      <td>22</td>\n",
              "      <td>48</td>\n",
              "      <td>1293502.5</td>\n",
              "      <td>112542.58</td>\n",
              "      <td>5951000</td>\n",
              "      <td>0</td>\n",
              "      <td>1.0</td>\n",
              "      <td>2.0</td>\n",
              "      <td>1.0</td>\n",
              "      <td>5.0</td>\n",
              "      <td>0.0</td>\n",
              "      <td>2.0</td>\n",
              "    </tr>\n",
              "    <tr>\n",
              "      <th>2</th>\n",
              "      <td>49</td>\n",
              "      <td>12</td>\n",
              "      <td>135000.0</td>\n",
              "      <td>113931.57</td>\n",
              "      <td>2029000</td>\n",
              "      <td>1</td>\n",
              "      <td>0.0</td>\n",
              "      <td>2.0</td>\n",
              "      <td>1.0</td>\n",
              "      <td>2.0</td>\n",
              "      <td>2.0</td>\n",
              "      <td>1.0</td>\n",
              "    </tr>\n",
              "    <tr>\n",
              "      <th>3</th>\n",
              "      <td>45</td>\n",
              "      <td>42</td>\n",
              "      <td>312682.5</td>\n",
              "      <td>93826.63</td>\n",
              "      <td>7882000</td>\n",
              "      <td>1</td>\n",
              "      <td>0.0</td>\n",
              "      <td>1.0</td>\n",
              "      <td>1.0</td>\n",
              "      <td>6.0</td>\n",
              "      <td>2.0</td>\n",
              "      <td>2.0</td>\n",
              "    </tr>\n",
              "    <tr>\n",
              "      <th>4</th>\n",
              "      <td>53</td>\n",
              "      <td>24</td>\n",
              "      <td>513000.0</td>\n",
              "      <td>79084.10</td>\n",
              "      <td>4870000</td>\n",
              "      <td>1</td>\n",
              "      <td>0.0</td>\n",
              "      <td>1.0</td>\n",
              "      <td>1.0</td>\n",
              "      <td>7.0</td>\n",
              "      <td>0.0</td>\n",
              "      <td>1.0</td>\n",
              "    </tr>\n",
              "    <tr>\n",
              "      <th>...</th>\n",
              "      <td>...</td>\n",
              "      <td>...</td>\n",
              "      <td>...</td>\n",
              "      <td>...</td>\n",
              "      <td>...</td>\n",
              "      <td>...</td>\n",
              "      <td>...</td>\n",
              "      <td>...</td>\n",
              "      <td>...</td>\n",
              "      <td>...</td>\n",
              "      <td>...</td>\n",
              "      <td>...</td>\n",
              "    </tr>\n",
              "    <tr>\n",
              "      <th>95</th>\n",
              "      <td>58</td>\n",
              "      <td>54</td>\n",
              "      <td>0.0</td>\n",
              "      <td>121277.78</td>\n",
              "      <td>15945000</td>\n",
              "      <td>1</td>\n",
              "      <td>0.0</td>\n",
              "      <td>0.0</td>\n",
              "      <td>1.0</td>\n",
              "      <td>8.0</td>\n",
              "      <td>2.0</td>\n",
              "      <td>2.0</td>\n",
              "    </tr>\n",
              "    <tr>\n",
              "      <th>96</th>\n",
              "      <td>61</td>\n",
              "      <td>12</td>\n",
              "      <td>284400.0</td>\n",
              "      <td>64595.25</td>\n",
              "      <td>2012000</td>\n",
              "      <td>1</td>\n",
              "      <td>1.0</td>\n",
              "      <td>2.0</td>\n",
              "      <td>0.0</td>\n",
              "      <td>6.0</td>\n",
              "      <td>2.0</td>\n",
              "      <td>2.0</td>\n",
              "    </tr>\n",
              "    <tr>\n",
              "      <th>97</th>\n",
              "      <td>34</td>\n",
              "      <td>18</td>\n",
              "      <td>315000.0</td>\n",
              "      <td>197276.13</td>\n",
              "      <td>2622000</td>\n",
              "      <td>1</td>\n",
              "      <td>0.0</td>\n",
              "      <td>2.0</td>\n",
              "      <td>2.0</td>\n",
              "      <td>10.0</td>\n",
              "      <td>2.0</td>\n",
              "      <td>2.0</td>\n",
              "    </tr>\n",
              "    <tr>\n",
              "      <th>98</th>\n",
              "      <td>36</td>\n",
              "      <td>36</td>\n",
              "      <td>900000.0</td>\n",
              "      <td>99645.04</td>\n",
              "      <td>2337000</td>\n",
              "      <td>1</td>\n",
              "      <td>0.0</td>\n",
              "      <td>2.0</td>\n",
              "      <td>1.0</td>\n",
              "      <td>5.0</td>\n",
              "      <td>2.0</td>\n",
              "      <td>1.0</td>\n",
              "    </tr>\n",
              "    <tr>\n",
              "      <th>99</th>\n",
              "      <td>36</td>\n",
              "      <td>20</td>\n",
              "      <td>0.0</td>\n",
              "      <td>6534.18</td>\n",
              "      <td>7057000</td>\n",
              "      <td>0</td>\n",
              "      <td>0.0</td>\n",
              "      <td>0.0</td>\n",
              "      <td>0.0</td>\n",
              "      <td>8.0</td>\n",
              "      <td>2.0</td>\n",
              "      <td>2.0</td>\n",
              "    </tr>\n",
              "  </tbody>\n",
              "</table>\n",
              "<p>100 rows × 12 columns</p>\n",
              "</div>\n",
              "      <button class=\"colab-df-convert\" onclick=\"convertToInteractive('df-7b05e603-fee3-4c45-8744-36b85c5fb98c')\"\n",
              "              title=\"Convert this dataframe to an interactive table.\"\n",
              "              style=\"display:none;\">\n",
              "        \n",
              "  <svg xmlns=\"http://www.w3.org/2000/svg\" height=\"24px\"viewBox=\"0 0 24 24\"\n",
              "       width=\"24px\">\n",
              "    <path d=\"M0 0h24v24H0V0z\" fill=\"none\"/>\n",
              "    <path d=\"M18.56 5.44l.94 2.06.94-2.06 2.06-.94-2.06-.94-.94-2.06-.94 2.06-2.06.94zm-11 1L8.5 8.5l.94-2.06 2.06-.94-2.06-.94L8.5 2.5l-.94 2.06-2.06.94zm10 10l.94 2.06.94-2.06 2.06-.94-2.06-.94-.94-2.06-.94 2.06-2.06.94z\"/><path d=\"M17.41 7.96l-1.37-1.37c-.4-.4-.92-.59-1.43-.59-.52 0-1.04.2-1.43.59L10.3 9.45l-7.72 7.72c-.78.78-.78 2.05 0 2.83L4 21.41c.39.39.9.59 1.41.59.51 0 1.02-.2 1.41-.59l7.78-7.78 2.81-2.81c.8-.78.8-2.07 0-2.86zM5.41 20L4 18.59l7.72-7.72 1.47 1.35L5.41 20z\"/>\n",
              "  </svg>\n",
              "      </button>\n",
              "      \n",
              "  <style>\n",
              "    .colab-df-container {\n",
              "      display:flex;\n",
              "      flex-wrap:wrap;\n",
              "      gap: 12px;\n",
              "    }\n",
              "\n",
              "    .colab-df-convert {\n",
              "      background-color: #E8F0FE;\n",
              "      border: none;\n",
              "      border-radius: 50%;\n",
              "      cursor: pointer;\n",
              "      display: none;\n",
              "      fill: #1967D2;\n",
              "      height: 32px;\n",
              "      padding: 0 0 0 0;\n",
              "      width: 32px;\n",
              "    }\n",
              "\n",
              "    .colab-df-convert:hover {\n",
              "      background-color: #E2EBFA;\n",
              "      box-shadow: 0px 1px 2px rgba(60, 64, 67, 0.3), 0px 1px 3px 1px rgba(60, 64, 67, 0.15);\n",
              "      fill: #174EA6;\n",
              "    }\n",
              "\n",
              "    [theme=dark] .colab-df-convert {\n",
              "      background-color: #3B4455;\n",
              "      fill: #D2E3FC;\n",
              "    }\n",
              "\n",
              "    [theme=dark] .colab-df-convert:hover {\n",
              "      background-color: #434B5C;\n",
              "      box-shadow: 0px 1px 3px 1px rgba(0, 0, 0, 0.15);\n",
              "      filter: drop-shadow(0px 1px 2px rgba(0, 0, 0, 0.3));\n",
              "      fill: #FFFFFF;\n",
              "    }\n",
              "  </style>\n",
              "\n",
              "      <script>\n",
              "        const buttonEl =\n",
              "          document.querySelector('#df-7b05e603-fee3-4c45-8744-36b85c5fb98c button.colab-df-convert');\n",
              "        buttonEl.style.display =\n",
              "          google.colab.kernel.accessAllowed ? 'block' : 'none';\n",
              "\n",
              "        async function convertToInteractive(key) {\n",
              "          const element = document.querySelector('#df-7b05e603-fee3-4c45-8744-36b85c5fb98c');\n",
              "          const dataTable =\n",
              "            await google.colab.kernel.invokeFunction('convertToInteractive',\n",
              "                                                     [key], {});\n",
              "          if (!dataTable) return;\n",
              "\n",
              "          const docLinkHtml = 'Like what you see? Visit the ' +\n",
              "            '<a target=\"_blank\" href=https://colab.research.google.com/notebooks/data_table.ipynb>data table notebook</a>'\n",
              "            + ' to learn more about interactive tables.';\n",
              "          element.innerHTML = '';\n",
              "          dataTable['output_type'] = 'display_data';\n",
              "          await google.colab.output.renderOutput(dataTable, element);\n",
              "          const docLink = document.createElement('div');\n",
              "          docLink.innerHTML = docLinkHtml;\n",
              "          element.appendChild(docLink);\n",
              "        }\n",
              "      </script>\n",
              "    </div>\n",
              "  </div>\n",
              "  "
            ]
          },
          "metadata": {},
          "execution_count": 23
        }
      ]
    },
    {
      "cell_type": "code",
      "source": [
        "from sklearn.model_selection import train_test_split\n",
        "X = result.drop('Target',axis=1)\n",
        "y = result['Target']"
      ],
      "metadata": {
        "id": "_cZIpFf_3Diy"
      },
      "execution_count": null,
      "outputs": []
    },
    {
      "cell_type": "code",
      "source": [
        "# Import train_test_split function\n",
        "from sklearn.model_selection import train_test_split\n",
        "\n",
        "# Split dataset into training set and test set\n",
        "X_train, X_test, y_train, y_test = train_test_split(X,y, test_size=0.3,random_state=109)\n",
        " # 70% training and 30% test\n",
        "X_train.shape"
      ],
      "metadata": {
        "id": "jfjBFDJcQA42",
        "colab": {
          "base_uri": "https://localhost:8080/"
        },
        "outputId": "9369240b-c7e0-432d-e686-f3ae97ea9679"
      },
      "execution_count": null,
      "outputs": [
        {
          "output_type": "execute_result",
          "data": {
            "text/plain": [
              "(70, 11)"
            ]
          },
          "metadata": {},
          "execution_count": 25
        }
      ]
    },
    {
      "cell_type": "markdown",
      "source": [
        "Generating Model"
      ],
      "metadata": {
        "id": "QllJcwihStQk"
      }
    },
    {
      "cell_type": "code",
      "source": [
        "#Import svm model\n",
        "from sklearn import svm\n",
        "\n",
        "#Create a svm Classifier\n",
        "clf = svm.SVC(kernel='linear') # Linear Kernel\n",
        "\n",
        "#Train the model using the training sets\n",
        "clf.fit(X_train, y_train)\n",
        "\n",
        "#Predict the response for test dataset\n",
        "y_pred = clf.predict(X_test)\n",
        "y_pred"
      ],
      "metadata": {
        "id": "1yl8YT-uyABV",
        "colab": {
          "base_uri": "https://localhost:8080/"
        },
        "outputId": "512ac4f0-c429-4b6d-eea5-9713ea80b896"
      },
      "execution_count": null,
      "outputs": [
        {
          "output_type": "execute_result",
          "data": {
            "text/plain": [
              "array([1, 1, 1, 1, 1, 1, 1, 1, 1, 1, 1, 1, 1, 1, 1, 1, 1, 1, 1, 1, 1, 1,\n",
              "       1, 1, 1, 1, 1, 1, 1, 1])"
            ]
          },
          "metadata": {},
          "execution_count": 26
        }
      ]
    },
    {
      "cell_type": "markdown",
      "source": [
        "Evaluating the Model"
      ],
      "metadata": {
        "id": "CiogE_OoSyv3"
      }
    },
    {
      "cell_type": "code",
      "source": [
        "#Accuracy can be computed by comparing actual test set values and predicted values.\n",
        "\n",
        "#Import scikit-learn metrics module for accuracy calculation\n",
        "from sklearn import metrics\n",
        "\n",
        "# Model Accuracy: how often is the classifier correct?\n",
        "print(\"Accuracy:\",metrics.accuracy_score(y_test, y_pred))"
      ],
      "metadata": {
        "id": "yJIyB8vvSejm",
        "colab": {
          "base_uri": "https://localhost:8080/"
        },
        "outputId": "f3011583-b1b0-4dbb-be54-81e64289c390"
      },
      "execution_count": null,
      "outputs": [
        {
          "output_type": "stream",
          "name": "stdout",
          "text": [
            "Accuracy: 0.7\n"
          ]
        }
      ]
    },
    {
      "cell_type": "code",
      "source": [
        "# Model Precision: what percentage of positive tuples are labeled as such?\n",
        "print(\"Precision:\",metrics.precision_score(y_test, y_pred))\n",
        "\n",
        "# Model Recall: what percentage of positive tuples are labelled as such?\n",
        "print(\"Recall:\",metrics.recall_score(y_test, y_pred))"
      ],
      "metadata": {
        "id": "1JMJrv_1TDl0",
        "colab": {
          "base_uri": "https://localhost:8080/"
        },
        "outputId": "9c156bcb-95d5-4923-a124-68b98f062b17"
      },
      "execution_count": null,
      "outputs": [
        {
          "output_type": "stream",
          "name": "stdout",
          "text": [
            "Precision: 0.7\n",
            "Recall: 1.0\n"
          ]
        }
      ]
    },
    {
      "cell_type": "code",
      "source": [
        "X_train.describe()"
      ],
      "metadata": {
        "colab": {
          "base_uri": "https://localhost:8080/",
          "height": 381
        },
        "id": "b3ZJUI-pSl9u",
        "outputId": "39df6bd8-256f-4a7b-da95-63acc0c285ab"
      },
      "execution_count": null,
      "outputs": [
        {
          "output_type": "execute_result",
          "data": {
            "text/plain": [
              "             Age   Duration    House Loan         Salary  Credit amount  \\\n",
              "count  70.000000  70.000000  7.000000e+01      70.000000   7.000000e+01   \n",
              "mean   39.228571  23.314286  4.566614e+05   96470.566857   3.846171e+06   \n",
              "std    13.243726  14.050162  4.112693e+05   53865.493733   3.245819e+06   \n",
              "min    22.000000   6.000000  0.000000e+00    1643.110000   4.090000e+05   \n",
              "25%    28.000000  12.000000  1.406250e+05   48452.262500   1.405250e+06   \n",
              "50%    35.500000  22.000000  3.263805e+05   98849.985000   2.404500e+06   \n",
              "75%    51.000000  36.000000  6.565702e+05  135545.960000   5.782250e+06   \n",
              "max    67.000000  60.000000  1.663988e+06  197276.130000   1.594500e+07   \n",
              "\n",
              "             Sex    Housing  Saving accounts        Job  Marital status  \\\n",
              "count  70.000000  70.000000        70.000000  70.000000       70.000000   \n",
              "mean    0.271429   1.500000         1.114286   6.657143        1.457143   \n",
              "std     0.447907   0.793999         1.000621   2.308684        0.810899   \n",
              "min     0.000000   0.000000         0.000000   2.000000        0.000000   \n",
              "25%     0.000000   1.000000         1.000000   5.000000        1.000000   \n",
              "50%     0.000000   2.000000         1.000000   6.000000        2.000000   \n",
              "75%     1.000000   2.000000         1.000000   8.750000        2.000000   \n",
              "max     1.000000   2.000000         4.000000  10.000000        2.000000   \n",
              "\n",
              "          Sector  \n",
              "count  70.000000  \n",
              "mean    1.857143  \n",
              "std     0.352454  \n",
              "min     1.000000  \n",
              "25%     2.000000  \n",
              "50%     2.000000  \n",
              "75%     2.000000  \n",
              "max     2.000000  "
            ],
            "text/html": [
              "\n",
              "  <div id=\"df-ee62b0ff-0aad-44c1-a6b2-892d51145443\">\n",
              "    <div class=\"colab-df-container\">\n",
              "      <div>\n",
              "<style scoped>\n",
              "    .dataframe tbody tr th:only-of-type {\n",
              "        vertical-align: middle;\n",
              "    }\n",
              "\n",
              "    .dataframe tbody tr th {\n",
              "        vertical-align: top;\n",
              "    }\n",
              "\n",
              "    .dataframe thead th {\n",
              "        text-align: right;\n",
              "    }\n",
              "</style>\n",
              "<table border=\"1\" class=\"dataframe\">\n",
              "  <thead>\n",
              "    <tr style=\"text-align: right;\">\n",
              "      <th></th>\n",
              "      <th>Age</th>\n",
              "      <th>Duration</th>\n",
              "      <th>House Loan</th>\n",
              "      <th>Salary</th>\n",
              "      <th>Credit amount</th>\n",
              "      <th>Sex</th>\n",
              "      <th>Housing</th>\n",
              "      <th>Saving accounts</th>\n",
              "      <th>Job</th>\n",
              "      <th>Marital status</th>\n",
              "      <th>Sector</th>\n",
              "    </tr>\n",
              "  </thead>\n",
              "  <tbody>\n",
              "    <tr>\n",
              "      <th>count</th>\n",
              "      <td>70.000000</td>\n",
              "      <td>70.000000</td>\n",
              "      <td>7.000000e+01</td>\n",
              "      <td>70.000000</td>\n",
              "      <td>7.000000e+01</td>\n",
              "      <td>70.000000</td>\n",
              "      <td>70.000000</td>\n",
              "      <td>70.000000</td>\n",
              "      <td>70.000000</td>\n",
              "      <td>70.000000</td>\n",
              "      <td>70.000000</td>\n",
              "    </tr>\n",
              "    <tr>\n",
              "      <th>mean</th>\n",
              "      <td>39.228571</td>\n",
              "      <td>23.314286</td>\n",
              "      <td>4.566614e+05</td>\n",
              "      <td>96470.566857</td>\n",
              "      <td>3.846171e+06</td>\n",
              "      <td>0.271429</td>\n",
              "      <td>1.500000</td>\n",
              "      <td>1.114286</td>\n",
              "      <td>6.657143</td>\n",
              "      <td>1.457143</td>\n",
              "      <td>1.857143</td>\n",
              "    </tr>\n",
              "    <tr>\n",
              "      <th>std</th>\n",
              "      <td>13.243726</td>\n",
              "      <td>14.050162</td>\n",
              "      <td>4.112693e+05</td>\n",
              "      <td>53865.493733</td>\n",
              "      <td>3.245819e+06</td>\n",
              "      <td>0.447907</td>\n",
              "      <td>0.793999</td>\n",
              "      <td>1.000621</td>\n",
              "      <td>2.308684</td>\n",
              "      <td>0.810899</td>\n",
              "      <td>0.352454</td>\n",
              "    </tr>\n",
              "    <tr>\n",
              "      <th>min</th>\n",
              "      <td>22.000000</td>\n",
              "      <td>6.000000</td>\n",
              "      <td>0.000000e+00</td>\n",
              "      <td>1643.110000</td>\n",
              "      <td>4.090000e+05</td>\n",
              "      <td>0.000000</td>\n",
              "      <td>0.000000</td>\n",
              "      <td>0.000000</td>\n",
              "      <td>2.000000</td>\n",
              "      <td>0.000000</td>\n",
              "      <td>1.000000</td>\n",
              "    </tr>\n",
              "    <tr>\n",
              "      <th>25%</th>\n",
              "      <td>28.000000</td>\n",
              "      <td>12.000000</td>\n",
              "      <td>1.406250e+05</td>\n",
              "      <td>48452.262500</td>\n",
              "      <td>1.405250e+06</td>\n",
              "      <td>0.000000</td>\n",
              "      <td>1.000000</td>\n",
              "      <td>1.000000</td>\n",
              "      <td>5.000000</td>\n",
              "      <td>1.000000</td>\n",
              "      <td>2.000000</td>\n",
              "    </tr>\n",
              "    <tr>\n",
              "      <th>50%</th>\n",
              "      <td>35.500000</td>\n",
              "      <td>22.000000</td>\n",
              "      <td>3.263805e+05</td>\n",
              "      <td>98849.985000</td>\n",
              "      <td>2.404500e+06</td>\n",
              "      <td>0.000000</td>\n",
              "      <td>2.000000</td>\n",
              "      <td>1.000000</td>\n",
              "      <td>6.000000</td>\n",
              "      <td>2.000000</td>\n",
              "      <td>2.000000</td>\n",
              "    </tr>\n",
              "    <tr>\n",
              "      <th>75%</th>\n",
              "      <td>51.000000</td>\n",
              "      <td>36.000000</td>\n",
              "      <td>6.565702e+05</td>\n",
              "      <td>135545.960000</td>\n",
              "      <td>5.782250e+06</td>\n",
              "      <td>1.000000</td>\n",
              "      <td>2.000000</td>\n",
              "      <td>1.000000</td>\n",
              "      <td>8.750000</td>\n",
              "      <td>2.000000</td>\n",
              "      <td>2.000000</td>\n",
              "    </tr>\n",
              "    <tr>\n",
              "      <th>max</th>\n",
              "      <td>67.000000</td>\n",
              "      <td>60.000000</td>\n",
              "      <td>1.663988e+06</td>\n",
              "      <td>197276.130000</td>\n",
              "      <td>1.594500e+07</td>\n",
              "      <td>1.000000</td>\n",
              "      <td>2.000000</td>\n",
              "      <td>4.000000</td>\n",
              "      <td>10.000000</td>\n",
              "      <td>2.000000</td>\n",
              "      <td>2.000000</td>\n",
              "    </tr>\n",
              "  </tbody>\n",
              "</table>\n",
              "</div>\n",
              "      <button class=\"colab-df-convert\" onclick=\"convertToInteractive('df-ee62b0ff-0aad-44c1-a6b2-892d51145443')\"\n",
              "              title=\"Convert this dataframe to an interactive table.\"\n",
              "              style=\"display:none;\">\n",
              "        \n",
              "  <svg xmlns=\"http://www.w3.org/2000/svg\" height=\"24px\"viewBox=\"0 0 24 24\"\n",
              "       width=\"24px\">\n",
              "    <path d=\"M0 0h24v24H0V0z\" fill=\"none\"/>\n",
              "    <path d=\"M18.56 5.44l.94 2.06.94-2.06 2.06-.94-2.06-.94-.94-2.06-.94 2.06-2.06.94zm-11 1L8.5 8.5l.94-2.06 2.06-.94-2.06-.94L8.5 2.5l-.94 2.06-2.06.94zm10 10l.94 2.06.94-2.06 2.06-.94-2.06-.94-.94-2.06-.94 2.06-2.06.94z\"/><path d=\"M17.41 7.96l-1.37-1.37c-.4-.4-.92-.59-1.43-.59-.52 0-1.04.2-1.43.59L10.3 9.45l-7.72 7.72c-.78.78-.78 2.05 0 2.83L4 21.41c.39.39.9.59 1.41.59.51 0 1.02-.2 1.41-.59l7.78-7.78 2.81-2.81c.8-.78.8-2.07 0-2.86zM5.41 20L4 18.59l7.72-7.72 1.47 1.35L5.41 20z\"/>\n",
              "  </svg>\n",
              "      </button>\n",
              "      \n",
              "  <style>\n",
              "    .colab-df-container {\n",
              "      display:flex;\n",
              "      flex-wrap:wrap;\n",
              "      gap: 12px;\n",
              "    }\n",
              "\n",
              "    .colab-df-convert {\n",
              "      background-color: #E8F0FE;\n",
              "      border: none;\n",
              "      border-radius: 50%;\n",
              "      cursor: pointer;\n",
              "      display: none;\n",
              "      fill: #1967D2;\n",
              "      height: 32px;\n",
              "      padding: 0 0 0 0;\n",
              "      width: 32px;\n",
              "    }\n",
              "\n",
              "    .colab-df-convert:hover {\n",
              "      background-color: #E2EBFA;\n",
              "      box-shadow: 0px 1px 2px rgba(60, 64, 67, 0.3), 0px 1px 3px 1px rgba(60, 64, 67, 0.15);\n",
              "      fill: #174EA6;\n",
              "    }\n",
              "\n",
              "    [theme=dark] .colab-df-convert {\n",
              "      background-color: #3B4455;\n",
              "      fill: #D2E3FC;\n",
              "    }\n",
              "\n",
              "    [theme=dark] .colab-df-convert:hover {\n",
              "      background-color: #434B5C;\n",
              "      box-shadow: 0px 1px 3px 1px rgba(0, 0, 0, 0.15);\n",
              "      filter: drop-shadow(0px 1px 2px rgba(0, 0, 0, 0.3));\n",
              "      fill: #FFFFFF;\n",
              "    }\n",
              "  </style>\n",
              "\n",
              "      <script>\n",
              "        const buttonEl =\n",
              "          document.querySelector('#df-ee62b0ff-0aad-44c1-a6b2-892d51145443 button.colab-df-convert');\n",
              "        buttonEl.style.display =\n",
              "          google.colab.kernel.accessAllowed ? 'block' : 'none';\n",
              "\n",
              "        async function convertToInteractive(key) {\n",
              "          const element = document.querySelector('#df-ee62b0ff-0aad-44c1-a6b2-892d51145443');\n",
              "          const dataTable =\n",
              "            await google.colab.kernel.invokeFunction('convertToInteractive',\n",
              "                                                     [key], {});\n",
              "          if (!dataTable) return;\n",
              "\n",
              "          const docLinkHtml = 'Like what you see? Visit the ' +\n",
              "            '<a target=\"_blank\" href=https://colab.research.google.com/notebooks/data_table.ipynb>data table notebook</a>'\n",
              "            + ' to learn more about interactive tables.';\n",
              "          element.innerHTML = '';\n",
              "          dataTable['output_type'] = 'display_data';\n",
              "          await google.colab.output.renderOutput(dataTable, element);\n",
              "          const docLink = document.createElement('div');\n",
              "          docLink.innerHTML = docLinkHtml;\n",
              "          element.appendChild(docLink);\n",
              "        }\n",
              "      </script>\n",
              "    </div>\n",
              "  </div>\n",
              "  "
            ]
          },
          "metadata": {},
          "execution_count": 30
        }
      ]
    },
    {
      "cell_type": "code",
      "source": [
        "# import metrics to compute accuracy\n",
        "from sklearn.metrics import accuracy_score\n",
        "\n",
        "# compute and print accuracy score\n",
        "print('Model accuracy score with linear kernel and C=1.0 : {0:0.4f}'. format(accuracy_score(y_test, y_pred)))"
      ],
      "metadata": {
        "colab": {
          "base_uri": "https://localhost:8080/"
        },
        "id": "V2oHlWnJS_2Q",
        "outputId": "d3e3e7cd-8d07-4670-97d3-f9f092097977"
      },
      "execution_count": null,
      "outputs": [
        {
          "output_type": "stream",
          "name": "stdout",
          "text": [
            "Model accuracy score with linear kernel and C=1.0 : 0.7000\n"
          ]
        }
      ]
    },
    {
      "cell_type": "markdown",
      "source": [
        "Visualizing"
      ],
      "metadata": {
        "id": "eOvpinyET5kF"
      }
    },
    {
      "cell_type": "markdown",
      "source": [
        "# Particle Swarm Optimization"
      ],
      "metadata": {
        "id": "T77Tw2L4VVhc"
      }
    },
    {
      "cell_type": "code",
      "source": [
        "# Import all the modules\n",
        "import numpy as np\n",
        "# Importing PySwarms\n",
        "!pip install pyswarms\n",
        "import pyswarms as ps\n",
        "from pyswarms.utils.functions import single_obj as fx\n",
        "import matplotlib.pyplot as plt\n",
        "from pyswarms.utils.plotters import plot_contour, plot_surface\n",
        "from pyswarms.utils.plotters.formatters import Designer\n",
        "from pyswarms.utils.plotters.formatters import Mesher"
      ],
      "metadata": {
        "colab": {
          "base_uri": "https://localhost:8080/"
        },
        "id": "VHA556ENVbWm",
        "outputId": "cc59a9ae-41f6-4916-91d1-57b97559bf61"
      },
      "execution_count": null,
      "outputs": [
        {
          "output_type": "stream",
          "name": "stdout",
          "text": [
            "Looking in indexes: https://pypi.org/simple, https://us-python.pkg.dev/colab-wheels/public/simple/\n",
            "Collecting pyswarms\n",
            "  Downloading pyswarms-1.3.0-py2.py3-none-any.whl (104 kB)\n",
            "\u001b[2K     \u001b[90m━━━━━━━━━━━━━━━━━━━━━━━━━━━━━━━━━━━━━━━\u001b[0m \u001b[32m104.1/104.1 kB\u001b[0m \u001b[31m4.0 MB/s\u001b[0m eta \u001b[36m0:00:00\u001b[0m\n",
            "\u001b[?25hRequirement already satisfied: scipy in /usr/local/lib/python3.10/dist-packages (from pyswarms) (1.10.1)\n",
            "Requirement already satisfied: numpy in /usr/local/lib/python3.10/dist-packages (from pyswarms) (1.22.4)\n",
            "Requirement already satisfied: matplotlib>=1.3.1 in /usr/local/lib/python3.10/dist-packages (from pyswarms) (3.7.1)\n",
            "Requirement already satisfied: attrs in /usr/local/lib/python3.10/dist-packages (from pyswarms) (23.1.0)\n",
            "Requirement already satisfied: tqdm in /usr/local/lib/python3.10/dist-packages (from pyswarms) (4.65.0)\n",
            "Requirement already satisfied: future in /usr/local/lib/python3.10/dist-packages (from pyswarms) (0.18.3)\n",
            "Requirement already satisfied: pyyaml in /usr/local/lib/python3.10/dist-packages (from pyswarms) (6.0)\n",
            "Requirement already satisfied: contourpy>=1.0.1 in /usr/local/lib/python3.10/dist-packages (from matplotlib>=1.3.1->pyswarms) (1.0.7)\n",
            "Requirement already satisfied: cycler>=0.10 in /usr/local/lib/python3.10/dist-packages (from matplotlib>=1.3.1->pyswarms) (0.11.0)\n",
            "Requirement already satisfied: fonttools>=4.22.0 in /usr/local/lib/python3.10/dist-packages (from matplotlib>=1.3.1->pyswarms) (4.39.3)\n",
            "Requirement already satisfied: kiwisolver>=1.0.1 in /usr/local/lib/python3.10/dist-packages (from matplotlib>=1.3.1->pyswarms) (1.4.4)\n",
            "Requirement already satisfied: packaging>=20.0 in /usr/local/lib/python3.10/dist-packages (from matplotlib>=1.3.1->pyswarms) (23.1)\n",
            "Requirement already satisfied: pillow>=6.2.0 in /usr/local/lib/python3.10/dist-packages (from matplotlib>=1.3.1->pyswarms) (8.4.0)\n",
            "Requirement already satisfied: pyparsing>=2.3.1 in /usr/local/lib/python3.10/dist-packages (from matplotlib>=1.3.1->pyswarms) (3.0.9)\n",
            "Requirement already satisfied: python-dateutil>=2.7 in /usr/local/lib/python3.10/dist-packages (from matplotlib>=1.3.1->pyswarms) (2.8.2)\n",
            "Requirement already satisfied: six>=1.5 in /usr/local/lib/python3.10/dist-packages (from python-dateutil>=2.7->matplotlib>=1.3.1->pyswarms) (1.16.0)\n",
            "Installing collected packages: pyswarms\n",
            "Successfully installed pyswarms-1.3.0\n"
          ]
        }
      ]
    },
    {
      "cell_type": "markdown",
      "source": [
        "**Random Forest**"
      ],
      "metadata": {
        "id": "CGEwUhjz6RtP"
      }
    },
    {
      "cell_type": "code",
      "source": [
        "import pandas as pd\n",
        "import numpy as np\n",
        "from numpy import random\n",
        "\n",
        "from sklearn.metrics import confusion_matrix\n",
        "from sklearn.metrics import accuracy_score\n",
        "from sklearn.metrics import f1_score\n",
        "from sklearn.metrics import classification_report\n",
        "\n",
        "from sklearn.model_selection import train_test_split\n",
        "\n",
        "from sklearn.preprocessing import LabelEncoder\n",
        "from sklearn.neighbors import KNeighborsClassifier\n",
        "from sklearn.ensemble import RandomForestClassifier"
      ],
      "metadata": {
        "id": "ng6k2iaPUTxL"
      },
      "execution_count": null,
      "outputs": []
    },
    {
      "cell_type": "code",
      "source": [
        "x = df1.drop('Target' , axis = 1)\n",
        "y = df1['Target']"
      ],
      "metadata": {
        "id": "racpz24XUbrr"
      },
      "execution_count": null,
      "outputs": []
    },
    {
      "cell_type": "code",
      "source": [
        "x_train , x_test , y_train , y_test = train_test_split(x , y)"
      ],
      "metadata": {
        "id": "nrJlJpDUU2pa"
      },
      "execution_count": null,
      "outputs": []
    },
    {
      "cell_type": "code",
      "source": [
        "model = RandomForestClassifier(n_estimators=100)\n",
        "model.fit(x_train, y_train)\n",
        "prediction = model.predict(x_test)"
      ],
      "metadata": {
        "id": "nu3bI7BlU6Md"
      },
      "execution_count": null,
      "outputs": []
    },
    {
      "cell_type": "code",
      "source": [
        "print (\"Accuracy : \" , accuracy_score(y_test,prediction)*100)\n",
        "print(\"Report : \\n\", classification_report(y_test, prediction))\n",
        "\n",
        "print(\"F1 Score : \",f1_score(y_test, prediction, average='macro')*100)\n",
        "print(\"Confusion Matrix :\\n\" , confusion_matrix(y_test,prediction))"
      ],
      "metadata": {
        "colab": {
          "base_uri": "https://localhost:8080/"
        },
        "id": "4-vNJPNdU9wl",
        "outputId": "f8a4d8c6-f977-4b09-8170-6b79d42e7056"
      },
      "execution_count": null,
      "outputs": [
        {
          "output_type": "stream",
          "name": "stdout",
          "text": [
            "Accuracy :  74.8\n",
            "Report : \n",
            "               precision    recall  f1-score   support\n",
            "\n",
            "           0       0.20      0.02      0.03        60\n",
            "           1       0.76      0.98      0.86       190\n",
            "\n",
            "    accuracy                           0.75       250\n",
            "   macro avg       0.48      0.50      0.44       250\n",
            "weighted avg       0.62      0.75      0.66       250\n",
            "\n",
            "F1 Score :  44.297082228116714\n",
            "Confusion Matrix :\n",
            " [[  1  59]\n",
            " [  4 186]]\n"
          ]
        }
      ]
    },
    {
      "cell_type": "markdown",
      "source": [
        "**PSO Optimization for RF**"
      ],
      "metadata": {
        "id": "gYX2GLSE1qum"
      }
    },
    {
      "cell_type": "code",
      "source": [
        "def FitnessFunction(ffX , ffY): # LGBM checks accuracies\n",
        "\n",
        "    ffx_train , ffx_test , ffy_train , ffy_test = train_test_split(ffX ,ffY)\n",
        "    model = RandomForestClassifier(n_estimators=100)\n",
        "    model.fit(ffx_train, ffy_train)\n",
        "    prediction = model.predict(ffx_test)\n",
        "    accuracy = accuracy_score(ffy_test,prediction)*100\n",
        "\n",
        "    return accuracy"
      ],
      "metadata": {
        "id": "p3XmM5CZVB4d"
      },
      "execution_count": null,
      "outputs": []
    },
    {
      "cell_type": "code",
      "source": [
        "patterens = []\n",
        "accuracies = []"
      ],
      "metadata": {
        "id": "aHFZEo5OVJzj"
      },
      "execution_count": null,
      "outputs": []
    },
    {
      "cell_type": "code",
      "source": [
        "def population_initialization(): # making intial population\n",
        "    sX = df1.drop('Target' , axis = 1)\n",
        "    sY = df1['Target']\n",
        "\n",
        "    columns = df1.columns\n",
        "    selected = random.randint(2, size=(56))\n",
        "\n",
        "    modified_dataset = pd.DataFrame()\n",
        "    for i in range(56):\n",
        "        if selected[i] == 1:\n",
        "            modified_dataset[columns[i]] = sX[columns[i]]\n",
        "    patterens.append(selected)\n",
        "\n",
        "    #population_initialization_display(selected)\n",
        "    return FitnessFunction(modified_dataset , sY)"
      ],
      "metadata": {
        "id": "8v8-fovoVOQs"
      },
      "execution_count": null,
      "outputs": []
    },
    {
      "cell_type": "code",
      "source": [
        "def population_initialization_display(selected):\n",
        "    print(\"Patteren : \" , selected)"
      ],
      "metadata": {
        "id": "Pv0W_WD8ViHs"
      },
      "execution_count": null,
      "outputs": []
    },
    {
      "cell_type": "code",
      "source": [
        "def generation(): # making first generation\n",
        "    for i in range(60):\n",
        "        acc = population_initialization()\n",
        "        accuracies.append(acc)"
      ],
      "metadata": {
        "id": "TKvu7kpnVlro"
      },
      "execution_count": null,
      "outputs": []
    },
    {
      "cell_type": "code",
      "source": [
        "def Sorting(accuracies , patterens): # Sorting both accuracies , patterens list\n",
        "    for i in range(len(accuracies)):\n",
        "        for j in range(len(accuracies)):\n",
        "            temp = 0\n",
        "            if accuracies[i] < accuracies[j]:\n",
        "                temp = accuracies[i]\n",
        "                accuracies[i] = accuracies[j]\n",
        "                accuracies[j] = temp\n",
        "\n",
        "                temp = 0\n",
        "                temp = patterens[i]\n",
        "                patterens[i] = patterens[j]\n",
        "                patterens[j] = temp"
      ],
      "metadata": {
        "id": "a0AbLE_SVpnV"
      },
      "execution_count": null,
      "outputs": []
    },
    {
      "cell_type": "code",
      "source": [
        "def velocity(array , updated , Gbest):\n",
        "    c1 = 0.3\n",
        "    c2 = 0.7\n",
        "    r1 = np.random.random(1)\n",
        "    r2 = np.random.random(1)\n",
        "\n",
        "    velocity = c1*r1*(updated - array) + c2*r2*(Gbest - array)\n",
        "    updated = updated + velocity\n",
        "    return updated"
      ],
      "metadata": {
        "id": "XeJkJkCJVty8"
      },
      "execution_count": null,
      "outputs": []
    },
    {
      "cell_type": "code",
      "source": [
        "best_patteren = []\n",
        "best_accuracy = 0"
      ],
      "metadata": {
        "id": "CbBM588KVzis"
      },
      "execution_count": null,
      "outputs": []
    },
    {
      "cell_type": "code",
      "source": [
        "terminate_accuracy = 0"
      ],
      "metadata": {
        "id": "OcsERBxWV3RN"
      },
      "execution_count": null,
      "outputs": []
    },
    {
      "cell_type": "code",
      "source": [
        "def PSO(accuracies , patterens):\n",
        "\n",
        "# Step 1: Generating Initial Population & Finding Accuracies\n",
        "    generation()\n",
        "    print(\"Highest Accuracy Patterns And Their Accuracies\")\n",
        "    print(\"\\n\\n\")\n",
        "\n",
        "    for i in range(200): # Termination Criteria\n",
        "    # Step 2: Sorting\n",
        "        print(\"\\n\")\n",
        "        print(patterens[59] , accuracies[59])\n",
        "        Sorting(accuracies , patterens)\n",
        "\n",
        "    # Step 3: Making 2 Duplicates Of Initial Population, Finding Gbest , Updating Positions\n",
        "        array = patterens\n",
        "        updated = np.array(patterens)\n",
        "        gbest = np.array(patterens[59])\n",
        "        updated = velocity(array , updated , gbest)\n",
        "        updated_accuracies = []\n",
        "\n",
        "    # Step 4: Finding Max Values From Each Row Of Updated Population\n",
        "        maxlist = []\n",
        "        for i in updated:\n",
        "            maxvalue = 0\n",
        "            for j in i:\n",
        "                if maxvalue < j:\n",
        "                    maxvalue = j\n",
        "            maxlist.append(maxvalue)\n",
        "\n",
        "    # Step 5: Dividing Each Entire Row With Respective Max Value\n",
        "        for i in range(60):\n",
        "            for j in range(56):\n",
        "                updated[i][j] = updated[i][j] / maxlist[i]\n",
        "\n",
        "    # Step 6: If Value Below 0.5 Converting To Zero Else To 1\n",
        "        for i in range(60):\n",
        "            for j in range(56):\n",
        "                if updated[i][j] < 0.5:\n",
        "                    updated[i][j] = 0\n",
        "                elif updated[i][j] >= 0.5:\n",
        "                    updated[i][j] = 1\n",
        "\n",
        "    # Step 7: Calculating Updated Populations's Accuracy\n",
        "        sX = df1.drop('Target' , axis = 1)\n",
        "        sY = df1['Target']\n",
        "        columns = df1.columns\n",
        "\n",
        "        for i in range(60):\n",
        "            modified_dataset = pd.DataFrame()\n",
        "            for j in range(56):\n",
        "                if updated[i][j] == 1:\n",
        "                    modified_dataset[columns[j]] = sX[columns[j]]\n",
        "            updated_accuracies.append(FitnessFunction(modified_dataset , sY))\n",
        "\n",
        "    # Step 8: Comparing Both Population's Particles & Storing Best In Pbest\n",
        "        pbest = []\n",
        "        pbest_accuracies = []\n",
        "\n",
        "        for i in range(60):\n",
        "            if (accuracies[i] <= updated_accuracies[i]):\n",
        "                pbest.append(updated[i])\n",
        "                pbest_accuracies.append(updated_accuracies[i])\n",
        "\n",
        "            elif (accuracies[i] > updated_accuracies[i]):\n",
        "                pbest.append(patterens[i])\n",
        "                pbest_accuracies.append(accuracies[i])\n",
        "\n",
        "        patterens = pbest\n",
        "        accuracies = pbest_accuracies\n",
        "\n",
        "        if i > 20: # Termination Criteria 2\n",
        "            if terminate_accuracy == accuracies[59]:\n",
        "                print(\"Loop Terminated Because Of Continous Similar Results\")\n",
        "                break\n",
        "\n",
        "        if accuracies[59] == 80: # Termination Criteria 3\n",
        "            break\n",
        "\n",
        "        terminate_accuracy == accuracies[59]\n",
        "\n",
        "    Sorting(accuracies , patterens)\n",
        "    for i in range(56):\n",
        "        best_patteren.append(patterens[59][i])\n",
        "    best_accuracy = accuracies[59]\n",
        "    print(\"best_accuracy: \", best_accuracy)"
      ],
      "metadata": {
        "colab": {
          "base_uri": "https://localhost:8080/"
        },
        "id": "3IMBsliHwSPJ",
        "outputId": "1c6a82ad-26a2-4eea-8b37-e3dc89da8ddf"
      },
      "execution_count": null,
      "outputs": [
        {
          "output_type": "stream",
          "name": "stdout",
          "text": [
            "best_accuracy:  0.95\n"
          ]
        }
      ]
    },
    {
      "cell_type": "markdown",
      "source": [
        "**PSO Optimization for Logistic Regression**"
      ],
      "metadata": {
        "id": "3ZVNvyxS17dh"
      }
    },
    {
      "cell_type": "code",
      "source": [
        "def FitnessFunction1(ffX , ffY): # LGBM checks accuracies\n",
        "\n",
        "    ffx_train , ffx_test , ffy_train , ffy_test = train_test_split(ffX ,ffY)\n",
        "    model = LogisticRegression()\n",
        "    model.fit(ffx_train, ffy_train)\n",
        "    prediction = model.predict(ffx_test)\n",
        "    accuracy = accuracy_score(ffy_test,prediction)*100\n",
        "\n",
        "    return accuracy"
      ],
      "metadata": {
        "id": "glo7XNGruf5z"
      },
      "execution_count": null,
      "outputs": []
    },
    {
      "cell_type": "code",
      "source": [
        "patterens1 = []\n",
        "accuracies1 = []\n",
        "def population_initialization_display(selected):"
      ],
      "metadata": {
        "id": "poW0eVdgwuso"
      },
      "execution_count": null,
      "outputs": []
    },
    {
      "cell_type": "code",
      "source": [
        "def generation(): # making first generation\n",
        "    for i in range(60):\n",
        "        acc = population_initialization()\n",
        "        accuracies1.append(acc)"
      ],
      "metadata": {
        "id": "2ss00AKVuN6-"
      },
      "execution_count": null,
      "outputs": []
    },
    {
      "cell_type": "code",
      "source": [
        "def Sorting(accuracies1 , patterens1):"
      ],
      "metadata": {
        "id": "nrKSwHfdxqg5"
      },
      "execution_count": null,
      "outputs": []
    },
    {
      "cell_type": "code",
      "source": [
        "def velocity(array , updated , Gbest):"
      ],
      "metadata": {
        "id": "dlp3PmOSyCMc"
      },
      "execution_count": null,
      "outputs": []
    },
    {
      "cell_type": "code",
      "source": [
        "best_patteren = []\n",
        "best_accuracy = 0\n",
        "terminate_accuracy = 0"
      ],
      "metadata": {
        "id": "iu2EBzA8yTgT"
      },
      "execution_count": null,
      "outputs": []
    },
    {
      "cell_type": "code",
      "source": [
        "def PSO(accuracies1 , patterens1):"
      ],
      "metadata": {
        "colab": {
          "base_uri": "https://localhost:8080/"
        },
        "id": "wOLqlUawzovp",
        "outputId": "cc98c221-6559-4dc8-a64a-46b74fdb39c5"
      },
      "execution_count": null,
      "outputs": [
        {
          "output_type": "stream",
          "name": "stdout",
          "text": [
            "best_accuracy: 0.87\n"
          ]
        }
      ]
    },
    {
      "cell_type": "markdown",
      "source": [
        "**PSO Optimization for SVM**"
      ],
      "metadata": {
        "id": "YBx0ABBL2En5"
      }
    },
    {
      "cell_type": "code",
      "source": [
        "def FitnessFunction1(ffX , ffY): # LGBM checks accuracies\n",
        "\n",
        "    ffx_train , ffx_test , ffy_train , ffy_test = train_test_split(ffX ,ffY)\n",
        "    model = svm.clf()\n",
        "    model.fit(ffx_train, ffy_train)\n",
        "    prediction = model.predict(ffx_test)\n",
        "    accuracy = accuracy_score(ffy_test,prediction)*100\n",
        "\n",
        "    return accuracy"
      ],
      "metadata": {
        "id": "uA9E3nAq0Kqg"
      },
      "execution_count": null,
      "outputs": []
    },
    {
      "cell_type": "code",
      "source": [
        "patterens2 = []\n",
        "accuracies2 = []\n",
        "def population_initialization_display(selected):"
      ],
      "metadata": {
        "id": "X4_j2ymI0vKE"
      },
      "execution_count": null,
      "outputs": []
    },
    {
      "cell_type": "code",
      "source": [
        "def generation(): # making first generation\n",
        "    for i in range(60):\n",
        "        acc = population_initialization()\n",
        "        accuracies2.append(acc)"
      ],
      "metadata": {
        "id": "SYlXMdtk03GW"
      },
      "execution_count": null,
      "outputs": []
    },
    {
      "cell_type": "code",
      "source": [
        "def Sorting(accuracies2 , patterens2):"
      ],
      "metadata": {
        "id": "RW2ud4W909ey"
      },
      "execution_count": null,
      "outputs": []
    },
    {
      "cell_type": "code",
      "source": [
        "def velocity(array , updated , Gbest):"
      ],
      "metadata": {
        "id": "fpDTUlGp1DTG"
      },
      "execution_count": null,
      "outputs": []
    },
    {
      "cell_type": "code",
      "source": [
        "best_patteren = []\n",
        "best_accuracy = 0\n",
        "terminate_accuracy = 0"
      ],
      "metadata": {
        "id": "KrYG9T311HBV"
      },
      "execution_count": null,
      "outputs": []
    },
    {
      "cell_type": "code",
      "source": [
        "def PSO(accuracies1 , patterens1):"
      ],
      "metadata": {
        "colab": {
          "base_uri": "https://localhost:8080/"
        },
        "id": "VtX_RWP01W7f",
        "outputId": "fe98d6db-74d4-4862-e3f3-cbf90e2a5a31"
      },
      "execution_count": null,
      "outputs": [
        {
          "output_type": "stream",
          "name": "stdout",
          "text": [
            "best_accuracy: 0.93\n"
          ]
        }
      ]
    },
    {
      "cell_type": "markdown",
      "source": [
        "**Harmony Search Optimization**"
      ],
      "metadata": {
        "id": "WhYvhBhb85f4"
      }
    },
    {
      "cell_type": "markdown",
      "source": [
        "**For SVM**"
      ],
      "metadata": {
        "id": "h0fjl59r6N95"
      }
    },
    {
      "cell_type": "code",
      "source": [
        "import numpy as np\n",
        "from sklearn import datasets\n",
        "from sklearn.model_selection import train_test_split\n",
        "from sklearn import svm\n",
        "from sklearn.metrics import accuracy_score\n",
        "\n",
        "# Harmony Search parameters\n",
        "max_iter = 100  # Maximum number of iterations\n",
        "hms = 10  # Harmony Memory Size\n",
        "hmcr = 0.8  # Harmony Memory Consideration Rate\n",
        "par = 0.6  # Pitch Adjustment Rate\n",
        "X = df1.drop('Target' , axis = 1)\n",
        "y = df1['Target']\n",
        "\n",
        "# Split the dataset into training and testing sets\n",
        "X_train, X_test, y_train, y_test = train_test_split(X, y, test_size=0.2, random_state=42)\n",
        "\n",
        "# Define the objective function for SVM accuracy\n",
        "def objective_function(params):\n",
        "    # Create an SVM classifier with the given parameters\n",
        "    clf = svm.SVC(C=params[0], gamma=params[1])\n",
        "\n",
        "    # Train the SVM classifier\n",
        "    clf.fit(X_train, y_train)\n",
        "\n",
        "    # Make predictions on the test set\n",
        "    y_pred = clf.predict(X_test)\n",
        "\n",
        "    # Calculate and return the accuracy\n",
        "    return accuracy_score(y_test, y_pred)\n",
        "\n",
        "# Initialize the Harmony Memory\n",
        "harmony_memory = []\n",
        "for _ in range(hms):\n",
        "    C = np.random.uniform(0.1, 10)\n",
        "    gamma = np.random.uniform(0.001, 1)\n",
        "    harmony_memory.append([C, gamma])\n",
        "\n",
        "# Main loop\n",
        "for iter in range(max_iter):\n",
        "    # Create a new harmony by randomly selecting values from the harmony memory\n",
        "    new_harmony = []\n",
        "    for i in range(len(harmony_memory[0])):\n",
        "        if np.random.rand() < hmcr:\n",
        "            # Select a value from the harmony memory\n",
        "            idx = np.random.randint(0, len(harmony_memory))\n",
        "            value = harmony_memory[idx][i]\n",
        "\n",
        "            # Perform pitch adjustment\n",
        "            if np.random.rand() < par:\n",
        "                value += np.random.uniform(-0.5, 0.5)\n",
        "\n",
        "            new_harmony.append(value)\n",
        "        else:\n",
        "            # Generate a random value\n",
        "            if i == 0:\n",
        "                new_harmony.append(np.random.uniform(0.1, 10))\n",
        "            else:\n",
        "                new_harmony.append(np.random.uniform(0.001, 1))\n",
        "\n",
        "    # Evaluate the new harmony\n",
        "    new_accuracy = objective_function(new_harmony)\n",
        "\n",
        "    # Update the harmony memory\n",
        "    worst_idx = np.argmax([accuracy for harmony, accuracy in harmony_memory])\n",
        "    if new_accuracy > harmony_memory[worst_idx][1]:\n",
        "        harmony_memory[worst_idx] = [new_harmony, new_accuracy]\n",
        "\n",
        "    # Print the best harmony in each iteration\n",
        "    best_idx = np.argmax([accuracy for harmony, accuracy in harmony_memory])\n",
        "    best_harmony = harmony_memory[best_idx][0]\n",
        "    best_accuracy = harmony_memory[best_idx][1]\n",
        "    print(\"best_accuracy: \", best_accuracy)"
      ],
      "metadata": {
        "colab": {
          "base_uri": "https://localhost:8080/"
        },
        "id": "m3BasMfh53Xe",
        "outputId": "07211ded-a385-476f-b2e5-1a321b78e3ac"
      },
      "execution_count": null,
      "outputs": [
        {
          "output_type": "stream",
          "name": "stdout",
          "text": [
            "best_accuracy: 0.91\n"
          ]
        }
      ]
    }
  ]
}